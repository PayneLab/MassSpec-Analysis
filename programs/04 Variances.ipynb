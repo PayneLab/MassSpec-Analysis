{
 "cells": [
  {
   "cell_type": "code",
   "execution_count": 1,
   "metadata": {
    "scrolled": true
   },
   "outputs": [
    {
     "name": "stderr",
     "output_type": "stream",
     "text": [
      "C:\\Anaconda3\\lib\\site-packages\\ipykernel_launcher.py:21: RuntimeWarning: divide by zero encountered in log\n"
     ]
    }
   ],
   "source": [
    "import nbimporter\n",
    "%run readin.ipynb\n",
    "\n",
    "ms3data = readin_log(\"proteinGroups_MS3_simplified.txt\")"
   ]
  },
  {
   "cell_type": "code",
   "execution_count": 2,
   "metadata": {},
   "outputs": [],
   "source": [
    "leastValue = np.nanmin(ms3data.replace(0, np.nan).values)"
   ]
  },
  {
   "cell_type": "markdown",
   "metadata": {},
   "source": [
    "# Variance Between Cell Lines"
   ]
  },
  {
   "cell_type": "code",
   "execution_count": 3,
   "metadata": {},
   "outputs": [],
   "source": [
    "technical_replicates = {\n",
    "    \"Cell Line 1\":[0,1,2],\n",
    "    \"Cell Line 2\":[3,4,5],\n",
    "    \"Cell Line 3\":[6,8],\n",
    "    \n",
    "#    \"Cell Line 4\":[10,11,12],\n",
    "#    \"Cell Line 5\":[13,14,15],\n",
    "#    \"Cell Line 6\":[16,18]\n",
    "}\n",
    "\n",
    "ms3Samples = {}\n",
    "sample_aves = {}\n",
    "leastValue = np.inf\n",
    "\n",
    "for sample in technical_replicates:\n",
    "    #\n",
    "    reps = {}\n",
    "    sample_proteins = {}\n",
    "    for rep in technical_replicates[sample]:\n",
    "        reps[ms3data.iloc[:,rep].name] = ms3data.iloc[:,rep]\n",
    "    ms3Samples[sample] = pd.DataFrame.from_dict(reps, dtype = float)\n",
    "        \n",
    "    for r in range(0, len(list(reps.values())[0])):\n",
    "        rep_for_protein = []\n",
    "        p = ms3data.iloc[r].name\n",
    "        for rep in reps.values():\n",
    "            if rep[r] > 0: rep_for_protein.append(rep[r])\n",
    "            if rep[r] > 0.0 and rep[r] < leastValue: leastValue=rep[r]\n",
    "        if len(rep_for_protein) > 1: \n",
    "            sample_proteins[p] = mean(rep_for_protein)\n",
    "        else: sample_proteins[p] = 0.0\n",
    "    sample_aves[sample] = sample_proteins\n",
    "sample_aves = pd.DataFrame.from_dict(sample_aves, dtype = float)\n",
    "\n",
    "sample_names = []\n",
    "for i in sample_aves:\n",
    "    sample_names.append(i)"
   ]
  },
  {
   "cell_type": "code",
   "execution_count": 4,
   "metadata": {},
   "outputs": [
    {
     "name": "stdout",
     "output_type": "stream",
     "text": [
      "3.709294638856529\n"
     ]
    }
   ],
   "source": [
    "print(leastValue)"
   ]
  },
  {
   "cell_type": "markdown",
   "metadata": {
    "scrolled": true
   },
   "source": [
    "##### These are the same loops as below, to compare all lines to all lines without duplicates\n",
    "for i in range(0,len(sample_names)-1):\n",
    "\n",
    "    for o_ser_index in range(i+1,len(sample_names)):\n",
    "\n",
    "        print (i, o_ser_index)"
   ]
  },
  {
   "cell_type": "code",
   "execution_count": 5,
   "metadata": {
    "scrolled": false
   },
   "outputs": [],
   "source": [
    "h = ms3data.shape[0]\n",
    "variances = {}\n",
    "var_flat = np.empty(shape = (h*15))\n",
    "fold_changes = {}\n",
    "flat_index = 0\n",
    "\n",
    "for ser_index in range(0,len(sample_names)-1): #these are the keys to ms3Samples\n",
    "    ser = sample_names[ser_index]\n",
    "    sample_df1 = ms3Samples[ser]\n",
    "    for o_ser_index in range(ser_index+1,len(sample_names)): #keys again\n",
    "        o_ser = sample_names[o_ser_index]\n",
    "        #compare variance in sample versus otherSample\n",
    "        sample_df2 = ms3Samples[o_ser]\n",
    "        for protein in sample_df1.index:\n",
    "            t1 = [x for x in sample_df1.loc[protein,:] if x != 0]\n",
    "            t2 = [x for x in sample_df2.loc[protein,:] if x != 0]\n",
    "            if len(t1) > 1: v1 = variance(t1)\n",
    "            else: v1 = 0\n",
    "            if len(t2) > 1: v2 = variance(t2)\n",
    "            else: v2 = 0\n",
    "            v = (v1+v2)/2\n",
    "            variances[((ser,o_ser),protein)] = v\n",
    "            #this needs to implement the half-least-psuedo-zero to avoid divided by zero errors\n",
    "            m2 =skipZeroMean(t2); m1 = skipZeroMean(t1)\n",
    "            if m1 ==0: m1 = leastValue/2\n",
    "            if m2 ==0: m2 = leastValue/2\n",
    "            fold_changes[((ser,o_ser),protein)] = m2/m1\n",
    "            var_flat[flat_index]=v\n",
    "            flat_index +=1"
   ]
  },
  {
   "cell_type": "code",
   "execution_count": 6,
   "metadata": {},
   "outputs": [
    {
     "data": {
      "image/png": "[encoded data removed]",
      "text/plain": [
       "<Figure size 432x288 with 1 Axes>"
      ]
     },
     "metadata": {
      "needs_background": "light"
     },
     "output_type": "display_data"
    }
   ],
   "source": [
    "#Volcano Graph\n",
    "plt.scatter(fold_changes.values(), variances.values())\n",
    "plt.show()"
   ]
  },
  {
   "cell_type": "markdown",
   "metadata": {},
   "source": [
    "##### Log-Normalized Technical Variance Thresholds\n",
    "###### Ignoring Zeros: \n",
    "###### 95% threshold:  0.2601427941399485\n",
    "###### 99% threshold:  0.5243715339788084"
   ]
  },
  {
   "cell_type": "code",
   "execution_count": 7,
   "metadata": {},
   "outputs": [],
   "source": [
    "#Log-Normalized Technical Variance Thresholds, Ignoring Zeros: \n",
    "threshold95 = 0.2601427941399485\n",
    "threshold99 = 0.5243715339788084"
   ]
  },
  {
   "cell_type": "code",
   "execution_count": 8,
   "metadata": {},
   "outputs": [
    {
     "data": {
      "image/png": "[encoded data removed]",
      "text/plain": [
       "<Figure size 432x288 with 1 Axes>"
      ]
     },
     "metadata": {
      "needs_background": "light"
     },
     "output_type": "display_data"
    }
   ],
   "source": [
    "#Volcano Graph\n",
    "plt.title(\"Log 2 Fold Changes\")\n",
    "log2_fold_changes = [math.log2(x) for x in fold_changes.values()]\n",
    "plt.scatter(log2_fold_changes, variances.values())\n",
    "plt.axvline(x=1, linestyle='dashed')\n",
    "plt.axvline(x=-1, linestyle='dashed')\n",
    "plt.axhline(y=threshold95, color='b', linestyle='-')\n",
    "plt.axhline(y=threshold99, color='b', linestyle='-',alpha=.5)\n",
    "plt.gca().invert_yaxis()\n",
    "plt.show()"
   ]
  },
  {
   "cell_type": "code",
   "execution_count": 9,
   "metadata": {
    "scrolled": true
   },
   "outputs": [
    {
     "data": {
      "image/png": "[encoded data removed]",
      "text/plain": [
       "<Figure size 432x288 with 1 Axes>"
      ]
     },
     "metadata": {
      "needs_background": "light"
     },
     "output_type": "display_data"
    },
    {
     "data": {
      "image/png": "[encoded data removed]",
      "text/plain": [
       "<Figure size 432x288 with 1 Axes>"
      ]
     },
     "metadata": {
      "needs_background": "light"
     },
     "output_type": "display_data"
    },
    {
     "data": {
      "image/png": "[encoded data removed]",
      "text/plain": [
       "<Figure size 432x288 with 1 Axes>"
      ]
     },
     "metadata": {
      "needs_background": "light"
     },
     "output_type": "display_data"
    }
   ],
   "source": [
    "lines_to_comp = []\n",
    "for ser_index in range(0,len(sample_names)-1): \n",
    "    ser = sample_names[ser_index]\n",
    "    for o_ser_index in range(ser_index+1,len(sample_names)):\n",
    "        o_ser = sample_names[o_ser_index]\n",
    "        lines_to_comp.append((ser,o_ser))\n",
    "        plt.title(ser+\" vs \"+o_ser)\n",
    "        svo_fc = {x:fold_changes[x] for x in fold_changes if x[0] == (ser,o_ser)}\n",
    "        svo_var = {x:variances[x] for x in variances if x[0] == (ser,o_ser)}\n",
    "        \n",
    "        log2_fold_changes = [math.log2(x) for x in svo_fc.values()]\n",
    "        plt.scatter(log2_fold_changes, svo_var.values())\n",
    "        \n",
    "        plt.axvline(x=  1, linestyle='dashed')\n",
    "        plt.axvline(x= -1, linestyle='dashed')\n",
    "        plt.axvline(x=  2, linestyle='dashed', alpha=.5)\n",
    "        plt.axvline(x= -2, linestyle='dashed', alpha=.5)\n",
    "        plt.axhline(y=threshold95, color='b', linestyle='-')\n",
    "        plt.axhline(y=threshold99, color='b', alpha=.5, linestyle='-')\n",
    "        plt.gca().invert_yaxis()\n",
    "\n",
    "        plt.show()\n",
    "        \n",
    "       "
   ]
  },
  {
   "cell_type": "code",
   "execution_count": 10,
   "metadata": {},
   "outputs": [
    {
     "ename": "SyntaxError",
     "evalue": "'break' outside loop (<ipython-input-10-3d77b43d8db2>, line 4)",
     "output_type": "error",
     "traceback": [
      "\u001b[1;36m  File \u001b[1;32m\"<ipython-input-10-3d77b43d8db2>\"\u001b[1;36m, line \u001b[1;32m4\u001b[0m\n\u001b[1;31mSyntaxError\u001b[0m\u001b[1;31m:\u001b[0m 'break' outside loop\n"
     ]
    }
   ],
   "source": [
    "break\n",
    "\"\"\"After this point generates interesting but not particularly usefull information.\"\"\""
   ]
  },
  {
   "cell_type": "code",
   "execution_count": null,
   "metadata": {},
   "outputs": [],
   "source": [
    "weirdpoints = []\n",
    "#print(\"\\nCell Lines Compared\\t\\t\\tProtein\\t\\t  Fold Change\\t\\t Variance\\n\")\n",
    "for key in fold_changes:\n",
    "    if abs(math.log2(fold_changes[key])) > 1:\n",
    "        if variances[key] < threshold95:\n",
    "            weirdpoints.append(key)\n",
    "            #print (key[0][0], 'vs',key[0][1], '\\t', key[1],\"\\t{0:.4f}\".format(math.log2(fold_changes[key])),\"\\t{0:.4f}\".format(variances[key]))"
   ]
  },
  {
   "cell_type": "code",
   "execution_count": null,
   "metadata": {},
   "outputs": [],
   "source": [
    "line_category_counts = {}#Example key = \"Cell Line1 vs Cell line 2\" value = number of occurances\n",
    "protein_category_counts = {}#Name:Frequency\n",
    "for key in weirdpoints:\n",
    "    line_category = (key[0][0]+\" vs \"+key[0][1])\n",
    "    if line_category in line_category_counts:\n",
    "        line_category_counts[line_category] += 1\n",
    "    else: line_category_counts[line_category] = 1\n",
    "    \n",
    "    protein = key[1]\n",
    "    if protein in protein_category_counts:\n",
    "        protein_category_counts[protein] += 1\n",
    "    else:protein_category_counts[protein] = 1\n",
    "        \n",
    "print (\"{0} proteins change significantly at least once, out of {1} ({2:.2f}%))\"\n",
    "       .format(len(protein_category_counts), ms3data.shape[0], len(protein_category_counts)/ms3data.shape[0]*100))\n",
    "print (\"{0} points change significantly out of {1} ({2:.2f}%))\"\n",
    "       .format((len(weirdpoints)), len(variances.values()), (len(weirdpoints))/(len(variances.values()))*100))\n",
    "\n",
    "plt.figure(figsize=(12,4))\n",
    "plt.rc('xtick', labelsize=14) \n",
    "plt.bar(range(len(line_category_counts)), list(line_category_counts.values()), align='center')\n",
    "plt.xticks(range(len(line_category_counts)), list(line_category_counts.keys()), rotation=\"vertical\")\n",
    "plt.show()\n",
    "\n",
    "plt.hist(protein_category_counts.values())\n",
    "plt.title(\"Proteins that Change Expression\")\n",
    "plt.xlabel(\"Number of Comparisons\")\n",
    "plt.ylabel(\"Number of Proteins\")\n",
    "plt.show()"
   ]
  },
  {
   "cell_type": "code",
   "execution_count": null,
   "metadata": {},
   "outputs": [],
   "source": [
    "for i in protein_category_counts:\n",
    "    print (i,'\\t',protein_category_counts[i])"
   ]
  },
  {
   "cell_type": "code",
   "execution_count": null,
   "metadata": {},
   "outputs": [],
   "source": [
    "up_reg_points = []\n",
    "down_reg_points = []\n",
    "for key in weirdpoints:\n",
    "    if fold_changes[key] > 1: up_reg_points.append(key)\n",
    "    if fold_changes[key] < 1: down_reg_points.append(key)"
   ]
  },
  {
   "cell_type": "code",
   "execution_count": null,
   "metadata": {},
   "outputs": [],
   "source": [
    "line_category_counts = {}#Example key = \"Cell Line1 vs Cell line 2\" value = number of occurances\n",
    "protein_category_counts = {}#Name:Frequency\n",
    "for key in up_reg_points:\n",
    "    line_category = (key[0][0]+\" vs \"+key[0][1])\n",
    "    if line_category in line_category_counts:\n",
    "        line_category_counts[line_category] += 1\n",
    "    else: line_category_counts[line_category] = 1\n",
    "    \n",
    "    protein = key[1]\n",
    "    if protein in protein_category_counts:\n",
    "        protein_category_counts[protein] += 1\n",
    "    else:protein_category_counts[protein] = 1\n",
    "\n",
    "print (\"{0} proteins change significantly at least once, out of {1} ({2:.2f}%))\"\n",
    "       .format(len(protein_category_counts), ms3data.shape[0], len(protein_category_counts)/ms3data.shape[0]*100))\n",
    "print (\"{0} points are upregulated, out of {1} ({2:.2f}%))\"\n",
    "       .format((len(up_reg_points)), len(variances.values()), (len(up_reg_points))/(len(variances.values()))*100))\n",
    "\n",
    "plt.title(\"Upregulated Data Points\")\n",
    "plt.ylabel(\"Number of Proteins\")\n",
    "plt.rc('xtick', labelsize=14) \n",
    "plt.bar(range(len(line_category_counts)), list(line_category_counts.values()), align='center')\n",
    "plt.xticks(range(len(line_category_counts)), list(line_category_counts.keys()), rotation=\"vertical\")\n",
    "plt.show()\n",
    "\n",
    "plt.hist(protein_category_counts.values())\n",
    "plt.title(\"Upregulated Proteins\")\n",
    "plt.xlabel(\"Number of Comparisons\")\n",
    "plt.ylabel(\"Number of Proteins\")\n",
    "plt.show()"
   ]
  },
  {
   "cell_type": "code",
   "execution_count": null,
   "metadata": {},
   "outputs": [],
   "source": [
    "line_category_counts = {}#Example key = \"Cell Line1 vs Cell line 2\" value = number of occurances\n",
    "protein_category_counts = {}#Name:Frequency\n",
    "for key in down_reg_points:\n",
    "    line_category = (key[0][0]+\" vs \"+key[0][1])\n",
    "    if line_category in line_category_counts:\n",
    "        line_category_counts[line_category] += 1\n",
    "    else: line_category_counts[line_category] = 1\n",
    "    \n",
    "    protein = key[1]\n",
    "    if protein in protein_category_counts:\n",
    "        protein_category_counts[protein] += 1\n",
    "    else:protein_category_counts[protein] = 1\n",
    "        \n",
    "print (\"{0} proteins change significantly at least once, out of {1} ({2:.2f}%))\"\n",
    "       .format(len(protein_category_counts), ms3data.shape[0], len(protein_category_counts)/ms3data.shape[0]*100))\n",
    "print (\"{0} points are down regulated, out of {1} ({2:.2f}%))\"\n",
    "       .format((len(down_reg_points)), len(variances.values()), (len(down_reg_points))/(len(variances.values()))*100))\n",
    "\n",
    "plt.figure(figsize=(12,4))        \n",
    "plt.rc('xtick', labelsize=14) \n",
    "plt.title(\"Downregulated Proteins\")\n",
    "plt.bar(range(len(line_category_counts)), list(line_category_counts.values()), align='center')\n",
    "plt.xticks(range(len(line_category_counts)), list(line_category_counts.keys()), rotation=\"vertical\")\n",
    "plt.show()\n",
    "\n",
    "plt.hist(protein_category_counts.values())\n",
    "plt.title(\"Downregulated Proteins\")\n",
    "plt.xlabel(\"Number of Comparisons\")\n",
    "plt.ylabel(\"Number of Proteins\")\n",
    "plt.show()"
   ]
  },
  {
   "cell_type": "code",
   "execution_count": null,
   "metadata": {},
   "outputs": [],
   "source": []
  },
  {
   "cell_type": "code",
   "execution_count": null,
   "metadata": {},
   "outputs": [],
   "source": []
  }
 ],
 "metadata": {
  "kernelspec": {
   "display_name": "Python 3",
   "language": "python",
   "name": "python3"
  },
  "language_info": {
   "codemirror_mode": {
    "name": "ipython",
    "version": 3
   },
   "file_extension": ".py",
   "mimetype": "text/x-python",
   "name": "python",
   "nbconvert_exporter": "python",
   "pygments_lexer": "ipython3",
   "version": "3.7.3"
  }
 },
 "nbformat": 4,
 "nbformat_minor": 2
}
