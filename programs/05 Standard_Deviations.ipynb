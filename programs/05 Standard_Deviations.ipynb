{
 "cells": [
  {
   "cell_type": "code",
   "execution_count": 1,
   "metadata": {
    "scrolled": true
   },
   "outputs": [
    {
     "data": {
      "text/plain": [
       "<Figure size 1000x700 with 1 Axes>"
      ]
     },
     "metadata": {},
     "output_type": "display_data"
    },
    {
     "data": {
      "text/plain": [
       "<Figure size 1000x700 with 1 Axes>"
      ]
     },
     "metadata": {},
     "output_type": "display_data"
    },
    {
     "data": {
      "text/plain": [
       "<Figure size 640x480 with 1 Axes>"
      ]
     },
     "metadata": {},
     "output_type": "display_data"
    },
    {
     "data": {
      "text/plain": [
       "<Figure size 1000x700 with 1 Axes>"
      ]
     },
     "metadata": {},
     "output_type": "display_data"
    }
   ],
   "source": [
    "from readin import *"
   ]
  },
  {
   "cell_type": "code",
   "execution_count": 2,
   "metadata": {},
   "outputs": [],
   "source": [
    "from math import log, log2, log10"
   ]
  },
  {
   "cell_type": "code",
   "execution_count": 3,
   "metadata": {
    "scrolled": true
   },
   "outputs": [
    {
     "name": "stderr",
     "output_type": "stream",
     "text": [
      "C:\\Users\\M McCown\\Jupyter\\readin.py:105: RuntimeWarning: divide by zero encountered in log\n",
      "  dfl = (np.log(df)).replace(-np.inf, 0)\n"
     ]
    }
   ],
   "source": [
    "###For now, just use the one automatically\n",
    "ms3data = readin_log(\"proteinGroups_MS3_simplified.txt\")"
   ]
  },
  {
   "cell_type": "markdown",
   "metadata": {},
   "source": [
    "# Standard Deviation Within Technical Replicates"
   ]
  },
  {
   "cell_type": "code",
   "execution_count": 4,
   "metadata": {
    "scrolled": true
   },
   "outputs": [],
   "source": [
    "technical_replicates = {\n",
    "    \"Cell Line 1\":[0,1,2],\n",
    "    \"Cell Line 2\":[3,4,5],\n",
    "#    \"Cell Line 3\":[6,8],\n",
    "    \n",
    "#    \"Cell Line 4\":[10,11,12],\n",
    "#    \"Cell Line 5\":[13,14,15],\n",
    "#    \"Cell Line 6\":[16,18]\n",
    "}#\"\"\" #For MS3\n",
    "\"\"\"technical_replicates = {\n",
    "    \"Cell line 1 Slavov\":[0,1,4],\n",
    "    \"Cell line 2 Slavov\":[2,3,7],\n",
    "#    \"Cell line measurements 9&10\":[8,9]\n",
    "} #\"\"\" #As best I can figure for Slavov\n",
    "\n",
    "technical_standard_deviations = []\n",
    "for sample in technical_replicates:\n",
    "    #\n",
    "    reps = {}\n",
    "    for rep in technical_replicates[sample]:\n",
    "        reps[ms3data.iloc[:,rep].name] = ms3data.iloc[:,rep]\n",
    "    \n",
    "    #for each protein...\n",
    "    for r in range(0, len(list(reps.values())[0])):\n",
    "        rep_for_protein = []\n",
    "        p = ms3data.iloc[r].name\n",
    "        for rep in reps.values():\n",
    "            if rep[r] > 0: rep_for_protein.append(rep[r])\n",
    "        if len(rep_for_protein) > 1: \n",
    "            v = stdev(rep_for_protein)\n",
    "            technical_standard_deviations.append((sample, p, v))\n",
    "        else: \n",
    "            technical_standard_deviations.append((sample, p, 0))\n",
    "            "
   ]
  },
  {
   "cell_type": "code",
   "execution_count": 5,
   "metadata": {
    "scrolled": true
   },
   "outputs": [
    {
     "data": {
      "image/png": "[encoded data removed]",
      "text/plain": [
       "<Figure size 432x288 with 1 Axes>"
      ]
     },
     "metadata": {
      "needs_background": "light"
     },
     "output_type": "display_data"
    }
   ],
   "source": [
    "#plot tecnical replicate standard deviations as histogram\n",
    "plt.hist([x[2] for x in technical_standard_deviations], bins=200)\n",
    "plt.title(\"Standard Deviations for Technical Replicates\")\n",
    "plt.show()"
   ]
  },
  {
   "cell_type": "code",
   "execution_count": 6,
   "metadata": {},
   "outputs": [
    {
     "name": "stdout",
     "output_type": "stream",
     "text": [
      "Including Zeros: \n",
      "95% threshold:  0.43145872157777587\n",
      "99% threshold:  0.6859932025377378\n",
      "\n",
      "Ignoring Zeros: \n",
      "95% threshold:  0.5046901704498495\n",
      "99% threshold:  0.7123170284843734\n"
     ]
    }
   ],
   "source": [
    "threshold = get_thresholds([x[2] for x in technical_standard_deviations])"
   ]
  },
  {
   "cell_type": "code",
   "execution_count": 7,
   "metadata": {},
   "outputs": [
    {
     "data": {
      "text/plain": [
       "1.2341370082541328"
      ]
     },
     "execution_count": 7,
     "metadata": {},
     "output_type": "execute_result"
    }
   ],
   "source": [
    "technical_standard_deviations.sort(key=operator.itemgetter(2),reverse=True)\n",
    "thresh_item = technical_standard_deviations[math.ceil(float(len(technical_standard_deviations))*.01)]\n",
    "\n",
    "\n",
    "rep_for_protein = []\n",
    "for rep in technical_replicates[thresh_item[0]]:\n",
    "    rep_for_protein.append(ms3data.iloc[:,rep][thresh_item[1]])\n",
    "\n",
    "rep_min = min(rep_for_protein)\n",
    "rep_max = max(rep_for_protein)\n",
    "((rep_max)/rep_min)"
   ]
  },
  {
   "cell_type": "code",
   "execution_count": 8,
   "metadata": {},
   "outputs": [],
   "source": [
    "#fold_change_threshold = rep_max/rep_min\n",
    "#print(\"Fold change at 99% threshold:\", fold_change_threshold )"
   ]
  },
  {
   "cell_type": "code",
   "execution_count": 9,
   "metadata": {},
   "outputs": [
    {
     "name": "stdout",
     "output_type": "stream",
     "text": [
      "Percent change at 99% threshold: 23.41%\n"
     ]
    }
   ],
   "source": [
    "percent_change = 100.0*((rep_max-rep_min)/rep_min)\n",
    "print(\"Percent change at 99% threshold: {0:.2f}%\".format(percent_change))"
   ]
  },
  {
   "cell_type": "markdown",
   "metadata": {},
   "source": [
    "\n",
    "    alist = sorted(alist, reverse=True)\n",
    "    print(\"Including Zeros: \")\n",
    "    print(\"95% threshold: \", float(alist[math.ceil(float(len(alist))*.05)]))"
   ]
  }
 ],
 "metadata": {
  "kernelspec": {
   "display_name": "Python 3",
   "language": "python",
   "name": "python3"
  },
  "language_info": {
   "codemirror_mode": {
    "name": "ipython",
    "version": 3
   },
   "file_extension": ".py",
   "mimetype": "text/x-python",
   "name": "python",
   "nbconvert_exporter": "python",
   "pygments_lexer": "ipython3",
   "version": "3.7.3"
  }
 },
 "nbformat": 4,
 "nbformat_minor": 2
}
