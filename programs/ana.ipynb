{
 "cells": [
  {
   "cell_type": "code",
   "execution_count": 1,
   "metadata": {
    "scrolled": true
   },
   "outputs": [],
   "source": [
    "import sys\n",
    "from statistics import mean, stdev, variance\n",
    "import numpy as np\n",
    "import pandas as pd\n",
    "from re import sub\n",
    "import math\n",
    "import operator\n",
    "\n",
    "import matplotlib.pyplot as plt\n",
    "import seaborn as sns\n"
   ]
  },
  {
   "cell_type": "code",
   "execution_count": 2,
   "metadata": {
    "scrolled": true
   },
   "outputs": [],
   "source": [
    "COLS_TO_USE = range(1,11)\n",
    "IGNORE_ZEROS = True"
   ]
  },
  {
   "cell_type": "code",
   "execution_count": 3,
   "metadata": {
    "scrolled": true
   },
   "outputs": [],
   "source": [
    "def outName(x):\n",
    "    return sub(r'(\\w+).(\\w+)',r'\\1_output.\\2',x)\n",
    "\n",
    "def skipZero(alist):\n",
    "    return [x for x in alist if (x>0)]\n",
    "\n",
    "def skipZeroMean(l):\n",
    "    l = skipZero(l)\n",
    "    if len(l)==0: return 0\n",
    "    return mean(skipZero((l)))"
   ]
  },
  {
   "cell_type": "code",
   "execution_count": 4,
   "metadata": {
    "scrolled": true
   },
   "outputs": [],
   "source": [
    "def get_thresholds(alist):\n",
    "    alist = sorted(alist, reverse=True)\n",
    "    print(\"Including Zeros: \")\n",
    "    print(\"95% threshold: \", float(alist[math.ceil(float(len(alist))*.05)]))\n",
    "    print(\"99% threshold: \", float(alist[math.ceil(float(len(alist))*.01)]))\n",
    "\n",
    "    alist = [x for x in alist if (x>0)]\n",
    "    print(\"\\nIgnoring Zeros: \")\n",
    "    ninety_five = float(alist[math.ceil(float(len(alist))*.05)])\n",
    "    print(\"95% threshold: \", ninety_five)\n",
    "    print(\"99% threshold: \", float(alist[math.ceil(float(len(alist))*.01)]))\n",
    "    return ninety_five"
   ]
  },
  {
   "cell_type": "code",
   "execution_count": 5,
   "metadata": {},
   "outputs": [],
   "source": [
    "def compare(selfseries, otherseries):\n",
    "    c_dist = 0.0 #cumulative differences between the two series\n",
    "    for i in range(0,len(selfseries)):\n",
    "        c_dist += abs(float(selfseries[i])-float(otherseries[i]))\n",
    "    ave_dist = float(c_dist)/float((len(selfseries)))\n",
    "    return ave_dist"
   ]
  },
  {
   "cell_type": "code",
   "execution_count": 6,
   "metadata": {},
   "outputs": [],
   "source": [
    "def get_lower(series, to_show=5):\n",
    "    orser = series.sort_values(inplace=False)\n",
    "    print (orser.iloc[range(0,to_show)], '\\n\\n')"
   ]
  },
  {
   "cell_type": "code",
   "execution_count": 7,
   "metadata": {
    "scrolled": true
   },
   "outputs": [],
   "source": [
    "def readin(fileName):\n",
    "    inFile = open(fileName, 'r')\n",
    "    \n",
    "    line = inFile.readline()\n",
    "    headings = line.split('\\t')\n",
    "       \n",
    "    data = {}\n",
    "    line = inFile.readline()\n",
    "    while line !=\"\":\n",
    "        row = line.split('\\t')\n",
    "        vals = row[1:]\n",
    "        for i in vals: i = float(i)\n",
    "        data[(row[0])] = vals\n",
    "        line = inFile.readline()\n",
    "        \n",
    "    df = pd.DataFrame.from_dict(data, dtype = float, orient='index',columns = headings[1:])\n",
    "    return df\n",
    "\n",
    "\n",
    "def readin_log(fileName):\n",
    "    df = readin(fileName)\n",
    "    dfl = (np.log(df)).replace(-np.inf, 0)\n",
    "    return dfl"
   ]
  },
  {
   "cell_type": "code",
   "execution_count": 8,
   "metadata": {
    "scrolled": true
   },
   "outputs": [],
   "source": [
    "ms3data = readin(\"proteinGroups_MS3_simplified.txt\")"
   ]
  },
  {
   "cell_type": "code",
   "execution_count": 9,
   "metadata": {},
   "outputs": [
    {
     "name": "stdout",
     "output_type": "stream",
     "text": [
      "0.27437325905292476\n",
      "5% threshold of non-negcontrol:  1365.9\n",
      "[1365.9, 308.72, 290.45, 270.96, 249.91]\n"
     ]
    }
   ],
   "source": [
    "samples = ms3data.iloc[:,[0,1,2,3,4,5,6,8,9]].values.flatten()\n",
    "print (1 - len(skipZero(samples))/len(samples))\n",
    "samples= skipZero(np.sort(samples))\n",
    "\n",
    "thres5 = float(samples[math.ceil(float(len(samples))*.34)])\n",
    "thres = [thres5]\n",
    "thres.append(float(samples[math.ceil(float(len(samples))*.04)]))\n",
    "thres.append(float(samples[math.ceil(float(len(samples))*.03)]))\n",
    "thres.append(float(samples[math.ceil(float(len(samples))*.02)]))\n",
    "thres.append(float(samples[math.ceil(float(len(samples))*.01)]))\n",
    "print(\"5% threshold of non-negcontrol: \", thres5)\n",
    "\n",
    "print(thres)"
   ]
  },
  {
   "cell_type": "code",
   "execution_count": 10,
   "metadata": {},
   "outputs": [
    {
     "data": {
      "image/png": "[encoded data removed]",
      "text/plain": [
       "<Figure size 864x576 with 1 Axes>"
      ]
     },
     "metadata": {
      "needs_background": "light"
     },
     "output_type": "display_data"
    }
   ],
   "source": [
    "fig = plt.figure(figsize=(12,8))\n",
    "plt.xscale('log')\n",
    "plt.hist(samples, alpha=.5,bins=np.logspace(np.log10(5), 10))\n",
    "plt.title(\"Cell Lines 1,2,3 and Boost\")\n",
    "plt.axvline(x= float(samples[math.ceil(float(len(samples))*.03)]), linestyle='-')\n",
    "plt.axvline(x= float(samples[math.ceil(float(len(samples))*.05)]), linestyle='-', color=\"black\")\n",
    "\n",
    "plt.axvline(x= float(samples[math.ceil(float(len(samples))*.01)]), linestyle='dashed')\n",
    "plt.axvline(x= float(samples[math.ceil(float(len(samples))*.02)]), linestyle='dashed')\n",
    "plt.axvline(x= float(samples[math.ceil(float(len(samples))*.04)]), linestyle='dashed')\n",
    "\n",
    "plt.xlabel(\"Raw Intensity Value\")\n",
    "plt.ylabel(\"Number of Proteins\")\n",
    "fig.savefig('CellLines123andBoost.png', dpi=300)\n",
    "plt.show()"
   ]
  },
  {
   "cell_type": "code",
   "execution_count": 11,
   "metadata": {},
   "outputs": [
    {
     "name": "stdout",
     "output_type": "stream",
     "text": [
      "Non-zeros in control: 370\n",
      "\tOr 25.766%\n",
      "Above the 5% threshold there are 7 negative control points.\n"
     ]
    },
    {
     "data": {
      "image/png": "[encoded data removed]",
      "text/plain": [
       "<Figure size 432x288 with 1 Axes>"
      ]
     },
     "metadata": {
      "needs_background": "light"
     },
     "output_type": "display_data"
    }
   ],
   "source": [
    "neg_cont = ms3data.iloc[:,7]\n",
    "print (\"Non-zeros in control:\", len(skipZero(neg_cont)))\n",
    "print ('\\tOr {0:.3f}%'.format(len(skipZero(neg_cont))/len(neg_cont)*100.0))\n",
    "\n",
    "control_thres5 = len([x for x in neg_cont if x > thres5])\n",
    "print (\"Above the 5% threshold there are {0} negative control points.\".format(control_thres5))\n",
    "\n",
    "if False:            \n",
    "    print (\"Above 5%\",    (len([x for x in neg_cont if x > thres5]))),\n",
    "    print (\"Above 4%\", len([x for x in neg_cont if x > thres[1]]))#/len(neg_cont)),\n",
    "    print (\"Above 3%\", len([x for x in neg_cont if x > thres[2]]))#/len(neg_cont)),\n",
    "    print (\"Above 2%\", len([x for x in neg_cont if x > thres[3]]))#/len(neg_cont)),\n",
    "    print (\"Above 1%\", len([x for x in neg_cont if x > thres[4]]))#/len(neg_cont))\n",
    "\n",
    "fig = plt.figure(figsize=(6,4))\n",
    "plt.hist(neg_cont, bins = 100)\n",
    "#sns.rugplot(neg_cont, color=\"black\")\n",
    "plt.title(\"Negative Control\")\n",
    "plt.axvline(x= float(samples[math.ceil(float(len(samples))*.03)]), linestyle='-', color=\"black\")\n",
    "plt.axvline(x= float(samples[math.ceil(float(len(samples))*.01)]), linestyle='dashed')\n",
    "plt.axvline(x= float(samples[math.ceil(float(len(samples))*.02)]), linestyle='dashed')\n",
    "plt.axvline(x= float(samples[math.ceil(float(len(samples))*.04)]), linestyle='dashed')\n",
    "plt.xlabel(\"Raw Intensity Value\")\n",
    "plt.ylabel(\"Number of Proteins\")\n",
    "\n",
    "fig.savefig('NegControl.png', dpi=300)\n",
    "plt.show()\n"
   ]
  },
  {
   "cell_type": "code",
   "execution_count": 12,
   "metadata": {},
   "outputs": [],
   "source": [
    "def above(per, neg_cont, samples):\n",
    "    threshold = float(samples[math.ceil(float(len(samples))*per)])\n",
    "    #print (threshold)\n",
    "    count = len([x for x in neg_cont if x > threshold])\n",
    "    #print (\"Above {0}%\".format(per*100.0), count, count/len(neg_cont))\n",
    "    return count\n",
    "\n",
    "blanks_above = {}\n",
    "for i in range(0,27):\n",
    "    p = (float(i)/100.0)\n",
    "    blanks_above[p] = above(p, neg_cont, samples)\n"
   ]
  },
  {
   "cell_type": "code",
   "execution_count": 13,
   "metadata": {},
   "outputs": [
    {
     "data": {
      "image/png": "[encoded data removed]",
      "text/plain": [
       "<Figure size 720x504 with 1 Axes>"
      ]
     },
     "metadata": {
      "needs_background": "light"
     },
     "output_type": "display_data"
    },
    {
     "data": {
      "image/png": "[encoded data removed]",
      "text/plain": [
       "<Figure size 720x504 with 1 Axes>"
      ]
     },
     "metadata": {
      "needs_background": "light"
     },
     "output_type": "display_data"
    },
    {
     "name": "stdout",
     "output_type": "stream",
     "text": [
      "Note that 19596 zeros are not shown, out of a dataset of 57440.\n"
     ]
    }
   ],
   "source": [
    "plt.figure(figsize=(10,7))\n",
    "plt.hist(ms3data.values.flatten(), alpha=.5)\n",
    "sns.rugplot(ms3data.values.flatten(), color=\"black\")\n",
    "plt.title(\"All Data Points\")\n",
    "plt.show()\n",
    "\n",
    "plt.figure(figsize=(10,7))\n",
    "plt.hist(skipZero(ms3data.values.flatten()), alpha=.5)\n",
    "sns.rugplot(skipZero(ms3data.values.flatten()), color=\"black\")\n",
    "plt.title(\"All Non-Zero Data Points\")\n",
    "plt.show()\n",
    "print (\"Note that %i zeros are not shown, out of a dataset of %i.\" % \n",
    "       (len([z for z in ms3data.values.flatten() if (z==0)]), len(ms3data.values.flatten())))"
   ]
  },
  {
   "cell_type": "code",
   "execution_count": 14,
   "metadata": {},
   "outputs": [
    {
     "data": {
      "image/png": "[encoded data removed]",
      "text/plain": [
       "<Figure size 432x288 with 1 Axes>"
      ]
     },
     "metadata": {
      "needs_background": "light"
     },
     "output_type": "display_data"
    },
    {
     "name": "stdout",
     "output_type": "stream",
     "text": [
      "Reporter intensity corrected 0 MS3_1      8756.701218\n",
      "Reporter intensity corrected 1 MS3_1      8242.912746\n",
      "Reporter intensity corrected 2 MS3_1      8045.347016\n",
      "Reporter intensity corrected 3 MS3_1      8175.134893\n",
      "Reporter intensity corrected 4 MS3_1      8716.591123\n",
      "Reporter intensity corrected 5 MS3_1      8854.583496\n",
      "Reporter intensity corrected 6 MS3_1      8353.158014\n",
      "Reporter intensity corrected 7 MS3_1       253.831929\n",
      "Reporter intensity corrected 8 MS3_1      8069.454537\n",
      "Reporter intensity corrected 9 MS3_1    150566.664798\n",
      "Reporter intensity corrected 0 MS3_2      6781.660362\n",
      "Reporter intensity corrected 1 MS3_2      6500.994743\n",
      "Reporter intensity corrected 2 MS3_2      6247.221494\n",
      "Reporter intensity corrected 3 MS3_2      6327.837091\n",
      "Reporter intensity corrected 4 MS3_2      6718.135070\n",
      "Reporter intensity corrected 5 MS3_2      6534.780408\n",
      "Reporter intensity corrected 6 MS3_2      6170.567332\n",
      "Reporter intensity corrected 7 MS3_2       225.537954\n",
      "Reporter intensity corrected 8 MS3_2      6173.820955\n",
      "Reporter intensity corrected 9 MS3_2    103020.927270\n",
      "Reporter intensity 0 MS3_1                8283.746386\n",
      "Reporter intensity 1 MS3_1                7785.576449\n",
      "Reporter intensity 2 MS3_1                8128.002737\n",
      "Reporter intensity 3 MS3_1                8352.455427\n",
      "Reporter intensity 4 MS3_1                8744.191769\n",
      "Reporter intensity 5 MS3_1                9043.052642\n",
      "Reporter intensity 6 MS3_1                8474.459288\n",
      "Reporter intensity 7 MS3_1                4252.946119\n",
      "Reporter intensity 8 MS3_1                7969.735782\n",
      "Reporter intensity 9 MS3_1              141772.417544\n",
      "Reporter intensity 0 MS3_2                6414.844395\n",
      "Reporter intensity 1 MS3_2                6140.525199\n",
      "Reporter intensity 2 MS3_2                6314.560899\n",
      "Reporter intensity 3 MS3_2                6438.955508\n",
      "Reporter intensity 4 MS3_2                6739.290739\n",
      "Reporter intensity 5 MS3_2                6671.936943\n",
      "Reporter intensity 6 MS3_2                6267.319575\n",
      "Reporter intensity 7 MS3_2                3168.172904\n",
      "Reporter intensity 8 MS3_2                6097.548849\n",
      "Reporter intensity 9 MS3_2\\n             97010.807459\n",
      "dtype: float64\n"
     ]
    }
   ],
   "source": [
    "means_of_nonZero_by_col = ms3data.apply(skipZeroMean, axis='index')\n",
    "plt.hist(means_of_nonZero_by_col, bins=40)\n",
    "plt.title(\"Means of Columns\")\n",
    "plt.show()\n",
    "print(means_of_nonZero_by_col)"
   ]
  },
  {
   "cell_type": "code",
   "execution_count": 15,
   "metadata": {},
   "outputs": [
    {
     "data": {
      "image/png": "[encoded data removed]",
      "text/plain": [
       "<Figure size 720x504 with 1 Axes>"
      ]
     },
     "metadata": {
      "needs_background": "light"
     },
     "output_type": "display_data"
    },
    {
     "name": "stdout",
     "output_type": "stream",
     "text": [
      "Note that there are 57 zeros shown, out of a dataset of 1436.\n"
     ]
    }
   ],
   "source": [
    "means_of_nonZero_by_row = ms3data.apply(skipZeroMean, axis='columns')\n",
    "plt.figure(figsize=(10,7))\n",
    "plt.hist(means_of_nonZero_by_row, bins=500)\n",
    "plt.title(\"Means by Protein\")\n",
    "plt.show()\n",
    "\n",
    "\n",
    "print (\"Note that there are %i zeros shown, out of a dataset of %i.\" % \n",
    "       (len([z for z in means_of_nonZero_by_row if (z==0)]), len(means_of_nonZero_by_row)))"
   ]
  },
  {
   "cell_type": "markdown",
   "metadata": {},
   "source": [
    "# Finding Technical Replicates"
   ]
  },
  {
   "cell_type": "code",
   "execution_count": 16,
   "metadata": {
    "scrolled": true
   },
   "outputs": [],
   "source": [
    "differences = {}\n",
    "for i in range(0,20): #The data is four sets of ten columns\n",
    "    diff_c = {} #differences for this column\n",
    "    selfser = ms3data.iloc[:,i]\n",
    "    for o in range(0,40):\n",
    "        oser = ms3data.iloc[:,o]\n",
    "        dif = compare(selfser, oser)\n",
    "        diff_c[o] = dif\n",
    "    differences[i] = diff_c"
   ]
  },
  {
   "cell_type": "code",
   "execution_count": 17,
   "metadata": {
    "scrolled": true
   },
   "outputs": [],
   "source": [
    "differences = pd.DataFrame.from_dict(differences, dtype = float)"
   ]
  },
  {
   "cell_type": "code",
   "execution_count": 18,
   "metadata": {},
   "outputs": [
    {
     "name": "stdout",
     "output_type": "stream",
     "text": [
      "0        0.000000\n",
      "20     324.415397\n",
      "22     572.345857\n",
      "1      596.344464\n",
      "2      616.147465\n",
      "21     792.694269\n",
      "28    2665.777765\n",
      "8     2676.276880\n",
      "10    2730.039930\n",
      "6     2779.496490\n",
      "Name: 0, dtype: float64 \n",
      "\n",
      "\n",
      "1        0.000000\n",
      "21     316.755390\n",
      "20     493.518120\n",
      "22     503.055334\n",
      "2      518.921121\n",
      "0      596.344464\n",
      "28    2546.508844\n",
      "10    2555.439269\n",
      "8     2559.647221\n",
      "30    2601.950334\n",
      "Name: 1, dtype: float64 \n",
      "\n",
      "\n",
      "2        0.000000\n",
      "22      70.385982\n",
      "20     513.259589\n",
      "1      518.921121\n",
      "21     556.979547\n",
      "0      616.147465\n",
      "10    2543.080418\n",
      "28    2590.052862\n",
      "30    2597.460787\n",
      "8     2609.235209\n",
      "Name: 2, dtype: float64 \n",
      "\n",
      "\n",
      "3        0.000000\n",
      "23     202.993893\n",
      "4      702.760421\n",
      "5      730.983237\n",
      "24     749.855766\n",
      "25     780.300013\n",
      "14    2707.089593\n",
      "34    2722.006978\n",
      "33    2739.350279\n",
      "13    2744.235587\n",
      "Name: 3, dtype: float64 \n",
      "\n",
      "\n",
      "4        0.000000\n",
      "24     213.665281\n",
      "25     540.145623\n",
      "5      555.384781\n",
      "3      702.760421\n",
      "23     704.838799\n",
      "14    2982.572437\n",
      "34    2994.559147\n",
      "35    3024.470928\n",
      "15    3053.113602\n",
      "Name: 4, dtype: float64 \n",
      "\n",
      "\n",
      "5        0.000000\n",
      "25     136.551274\n",
      "4      555.384781\n",
      "24     595.055641\n",
      "23     700.587765\n",
      "3      730.983237\n",
      "14    2917.611599\n",
      "34    2922.411964\n",
      "35    2965.769478\n",
      "15    2995.718043\n",
      "Name: 5, dtype: float64 \n",
      "\n",
      "\n",
      "6        0.000000\n",
      "26     158.349916\n",
      "28     660.507681\n",
      "8      664.559708\n",
      "21    2613.801525\n",
      "1     2676.045021\n",
      "22    2683.095606\n",
      "2     2703.218120\n",
      "20    2705.713405\n",
      "0     2779.496490\n",
      "Name: 6, dtype: float64 \n",
      "\n",
      "\n",
      "7        0.000000\n",
      "17      71.496683\n",
      "37    1513.815858\n",
      "27    2529.013222\n",
      "31    3610.550394\n",
      "12    3820.076716\n",
      "11    3825.377782\n",
      "38    3858.885748\n",
      "32    3861.794885\n",
      "30    3903.278661\n",
      "Name: 7, dtype: float64 \n",
      "\n",
      "\n",
      "8        0.000000\n",
      "28      74.165091\n",
      "26     660.454680\n",
      "6      664.559708\n",
      "21    2490.794728\n",
      "1     2559.647221\n",
      "22    2586.843364\n",
      "20    2590.655216\n",
      "2     2609.235209\n",
      "0     2676.276880\n",
      "Name: 8, dtype: float64 \n",
      "\n",
      "\n",
      "9          0.000000\n",
      "29      7581.669986\n",
      "19     61954.456518\n",
      "39     64106.412855\n",
      "25    123464.607946\n",
      "24    123473.239262\n",
      "4     123499.298637\n",
      "5     123596.772591\n",
      "26    123668.588691\n",
      "6     123773.890084\n",
      "Name: 9, dtype: float64 \n",
      "\n",
      "\n",
      "10       0.000000\n",
      "30     226.066943\n",
      "11     532.815752\n",
      "32     534.927827\n",
      "12     569.399046\n",
      "31     678.066609\n",
      "38    1818.397263\n",
      "18    1821.324234\n",
      "16    1894.415454\n",
      "36    1906.278879\n",
      "Name: 10, dtype: float64 \n",
      "\n",
      "\n",
      "11       0.000000\n",
      "31     214.986581\n",
      "32     400.082159\n",
      "12     411.097166\n",
      "30     423.786024\n",
      "10     532.815752\n",
      "38    1733.184770\n",
      "18    1743.976532\n",
      "16    1822.682822\n",
      "36    1834.189380\n",
      "Name: 11, dtype: float64 \n",
      "\n",
      "\n",
      "12       0.000000\n",
      "32      50.307751\n",
      "11     411.097166\n",
      "31     454.980097\n",
      "30     456.572131\n",
      "10     569.399046\n",
      "38    1722.748203\n",
      "18    1735.217500\n",
      "16    1801.304834\n",
      "36    1811.957674\n",
      "Name: 12, dtype: float64 \n",
      "\n",
      "\n",
      "13       0.000000\n",
      "33     138.001066\n",
      "15     480.636714\n",
      "35     482.672703\n",
      "14     490.912345\n",
      "34     510.872083\n",
      "38    2146.234054\n",
      "18    2155.912055\n",
      "36    2176.588469\n",
      "16    2262.391005\n",
      "Name: 13, dtype: float64 \n",
      "\n",
      "\n",
      "14       0.000000\n",
      "34     152.720554\n",
      "35     445.245770\n",
      "15     472.787511\n",
      "13     490.912345\n",
      "33     494.371655\n",
      "36    2220.298500\n",
      "38    2236.263180\n",
      "18    2237.210429\n",
      "16    2315.561914\n",
      "Name: 14, dtype: float64 \n",
      "\n",
      "\n",
      "15       0.000000\n",
      "35      89.481253\n",
      "33     457.775522\n",
      "14     472.787511\n",
      "34     473.787319\n",
      "13     480.636714\n",
      "36    2117.126017\n",
      "38    2119.251100\n",
      "18    2126.426497\n",
      "16    2204.392843\n",
      "Name: 15, dtype: float64 \n",
      "\n",
      "\n",
      "16       0.000000\n",
      "36     116.442104\n",
      "38     489.227745\n",
      "18     491.332209\n",
      "32    1789.728755\n",
      "31    1797.925962\n",
      "12    1801.304834\n",
      "11    1822.682822\n",
      "30    1837.866116\n",
      "10    1894.415454\n",
      "Name: 16, dtype: float64 \n",
      "\n",
      "\n",
      "17       0.000000\n",
      "7       71.496683\n",
      "37    1514.577069\n",
      "27    2557.434245\n",
      "31    3622.407793\n",
      "12    3832.648094\n",
      "11    3837.247382\n",
      "38    3870.199296\n",
      "32    3874.383519\n",
      "30    3914.212004\n",
      "Name: 17, dtype: float64 \n",
      "\n",
      "\n",
      "18       0.000000\n",
      "38      52.227375\n",
      "16     491.332209\n",
      "36     494.699380\n",
      "31    1710.461302\n",
      "32    1724.117660\n",
      "12    1735.217500\n",
      "11    1743.976532\n",
      "30    1757.136511\n",
      "10    1821.324234\n",
      "Name: 18, dtype: float64 \n",
      "\n",
      "\n",
      "19        0.000000\n",
      "39     4859.156755\n",
      "29    56434.518426\n",
      "9     61954.456518\n",
      "0     77581.524930\n",
      "25    77672.508113\n",
      "24    77728.669443\n",
      "4     77763.128985\n",
      "5     77775.785446\n",
      "22    77840.632305\n",
      "Name: 19, dtype: float64 \n",
      "\n",
      "\n"
     ]
    }
   ],
   "source": [
    "v =(differences.apply(get_lower, to_show=10))"
   ]
  },
  {
   "cell_type": "code",
   "execution_count": 19,
   "metadata": {},
   "outputs": [
    {
     "data": {
      "image/png": "[encoded data removed]",
      "text/plain": [
       "<Figure size 432x288 with 1 Axes>"
      ]
     },
     "metadata": {
      "needs_background": "light"
     },
     "output_type": "display_data"
    },
    {
     "name": "stdout",
     "output_type": "stream",
     "text": [
      "[577.1376833797585, 663.0428129062213, 664.559707520891, 504.43732126276706, 481.4455232126272, 491.33220891364954]\n"
     ]
    }
   ],
   "source": [
    "technical_replicates = ([0,1,2],[3,4,5],[6,8],[10,11,12],[13,14,15],[16,18])\n",
    "\n",
    "tech_dif = []\n",
    "for sample in technical_replicates:\n",
    "    sample_dif = []\n",
    "    for i in sample:\n",
    "        for x in sample:\n",
    "            if i != x:\n",
    "                sample_dif.append(differences[i][x])\n",
    "    sample_dif =skipZeroMean(sample_dif)\n",
    "    tech_dif.append(sample_dif)\n",
    "\n",
    "plt.hist(tech_dif, alpha=.3, bins = 20)\n",
    "plt.title(\"Technical Differences\")\n",
    "sns.rugplot(tech_dif)\n",
    "plt.show()\n",
    "print(tech_dif)"
   ]
  },
  {
   "cell_type": "markdown",
   "metadata": {},
   "source": [
    "# Technical Variances"
   ]
  },
  {
   "cell_type": "markdown",
   "metadata": {},
   "source": [
    "The sets defined at the top are most similar, as calculated above.\n",
    "\n",
    "Currently ignoring the uncorrected measurments."
   ]
  },
  {
   "cell_type": "code",
   "execution_count": 20,
   "metadata": {
    "scrolled": false
   },
   "outputs": [],
   "source": [
    "technical_replicates = {\n",
    "    \"Cell Line 1\":[0,1,2],\n",
    "    \"Cell Line 2\":[3,4,5],\n",
    "    \"Cell Line 3\":[6,8],\n",
    "    \n",
    "    \"Cell Line 4\":[10,11,12],\n",
    "    \"Cell Line 5\":[13,14,15],\n",
    "    \"Cell Line 6\":[16,18]\n",
    "}\n",
    "\n",
    "ms3Samples = {}\n",
    "\n",
    "technical_variances = []\n",
    "tech_variance_rate = []\n",
    "sample_aves = {}\n",
    "\n",
    "for sample in technical_replicates:\n",
    "    #\n",
    "    reps = {}\n",
    "    sample_proteins = {}\n",
    "    for rep in technical_replicates[sample]:\n",
    "        reps[ms3data.iloc[:,rep].name] = ms3data.iloc[:,rep]\n",
    "    ms3Samples[sample] = pd.DataFrame.from_dict(reps, dtype = float)\n",
    "        \n",
    "    for r in range(0, len(list(reps.values())[0])):\n",
    "        #reps = (f[r], s[r], t[r])\n",
    "        rep_for_protein = []\n",
    "        p = ms3data.iloc[r].name\n",
    "        for rep in reps.values():\n",
    "            if rep[r] > 0: rep_for_protein.append(rep[r])\n",
    "            \n",
    "        if len(rep_for_protein) > 1: \n",
    "            v = variance(rep_for_protein)\n",
    "            technical_variances.append(v)\n",
    "            tech_variance_rate.append((v/mean(rep_for_protein)))\n",
    "            sample_proteins[p] = mean(rep_for_protein)\n",
    "        else: \n",
    "            technical_variances.append(0)\n",
    "            tech_variance_rate.append(0)\n",
    "            sample_proteins[p] = 0.0\n",
    "    sample_aves[sample] = sample_proteins\n",
    "sample_aves = pd.DataFrame.from_dict(sample_aves, dtype = float)"
   ]
  },
  {
   "cell_type": "code",
   "execution_count": 21,
   "metadata": {
    "scrolled": true
   },
   "outputs": [],
   "source": [
    "#print (ms3Samples[\"Cell Line 1\"])"
   ]
  },
  {
   "cell_type": "code",
   "execution_count": 22,
   "metadata": {},
   "outputs": [
    {
     "data": {
      "image/png": "[encoded data removed]",
      "text/plain": [
       "<Figure size 720x504 with 1 Axes>"
      ]
     },
     "metadata": {
      "needs_background": "light"
     },
     "output_type": "display_data"
    }
   ],
   "source": [
    "plt.figure(figsize=(10,7))\n",
    "plt.hist(tech_variance_rate, alpha=.3)\n",
    "plt.title(\"Technical Variance : Mean Ratio\")\n",
    "sns.rugplot(tech_variance_rate)\n",
    "plt.show()"
   ]
  },
  {
   "cell_type": "code",
   "execution_count": 23,
   "metadata": {
    "scrolled": true
   },
   "outputs": [
    {
     "name": "stdout",
     "output_type": "stream",
     "text": [
      "Technical Variances Calculated: 8616\n",
      "Greatest Technical Variance: 6959640200.0\n",
      "Greatest Technical Variance: Mean Ratio: 7534.932279543117\n"
     ]
    }
   ],
   "source": [
    "technical_variances = sorted(technical_variances, reverse=True)\n",
    "print (\"Technical Variances Calculated:\",len(technical_variances))\n",
    "print (\"Greatest Technical Variance:\", technical_variances[0])\n",
    "tech_variance_rate = sorted(tech_variance_rate, reverse=True)\n",
    "print (\"Greatest Technical Variance: Mean Ratio:\", tech_variance_rate[0])"
   ]
  },
  {
   "cell_type": "code",
   "execution_count": 24,
   "metadata": {},
   "outputs": [
    {
     "data": {
      "image/png": "[encoded data removed]",
      "text/plain": [
       "<Figure size 432x288 with 1 Axes>"
      ]
     },
     "metadata": {
      "needs_background": "light"
     },
     "output_type": "display_data"
    },
    {
     "name": "stdout",
     "output_type": "stream",
     "text": [
      "Note that 2935 zeros are not shown, out of a dataset of 8616.\n"
     ]
    }
   ],
   "source": [
    "plt.hist(skipZero(technical_variances), alpha=.5, bins = 100)\n",
    "sns.rugplot(technical_variances)\n",
    "plt.title(\"Technical Variances\")\n",
    "plt.show()\n",
    "\n",
    "print (\"Note that %i zeros are not shown, out of a dataset of %i.\" % \n",
    "       (len([z for z in technical_variances if (z==0)]), len(technical_variances)))"
   ]
  },
  {
   "cell_type": "code",
   "execution_count": 25,
   "metadata": {
    "scrolled": false
   },
   "outputs": [
    {
     "name": "stderr",
     "output_type": "stream",
     "text": [
      "C:\\Anaconda3\\lib\\site-packages\\scipy\\stats\\stats.py:1713: FutureWarning: Using a non-tuple sequence for multidimensional indexing is deprecated; use `arr[tuple(seq)]` instead of `arr[seq]`. In the future this will be interpreted as an array index, `arr[np.array(seq)]`, which will result either in an error or a different result.\n",
      "  return np.add.reduce(sorted[indexer] * weights, axis=axis) / sumval\n"
     ]
    },
    {
     "data": {
      "image/png": "[encoded data removed]",
      "text/plain": [
       "<Figure size 432x288 with 1 Axes>"
      ]
     },
     "metadata": {
      "needs_background": "light"
     },
     "output_type": "display_data"
    }
   ],
   "source": [
    "tv_plt = sns.kdeplot(data=technical_variances)\n",
    "plt.title(\"Technical Variances\")\n",
    "tv_plt.set(xlabel=\"\", ylabel =\"Probability Density\")\n",
    "plt.show()"
   ]
  },
  {
   "cell_type": "code",
   "execution_count": 26,
   "metadata": {
    "scrolled": true
   },
   "outputs": [
    {
     "data": {
      "image/png": "[encoded data removed]",
      "text/plain": [
       "<Figure size 720x504 with 1 Axes>"
      ]
     },
     "metadata": {
      "needs_background": "light"
     },
     "output_type": "display_data"
    }
   ],
   "source": [
    "technical_variances = sorted(technical_variances, reverse = True)\n",
    "\n",
    "x= np.sort(technical_variances)\n",
    "plt.figure(figsize=(10,7))\n",
    "plt.plot(x, np.arange(len(x))/float(len(x)))\n",
    "plt.title(\"Technical Variances - Cumulative Distribution\")\n",
    "plt.show()"
   ]
  },
  {
   "cell_type": "code",
   "execution_count": 27,
   "metadata": {
    "scrolled": true
   },
   "outputs": [
    {
     "name": "stdout",
     "output_type": "stream",
     "text": [
      "Including Zeros: \n",
      "95% threshold:  2346854.3333333335\n",
      "99% threshold:  17592656.333333332\n",
      "\n",
      "Ignoring Zeros: \n",
      "95% threshold:  4199116.333333333\n",
      "99% threshold:  27726400.0\n"
     ]
    },
    {
     "data": {
      "image/png": "[encoded data removed]",
      "text/plain": [
       "<Figure size 432x288 with 1 Axes>"
      ]
     },
     "metadata": {
      "needs_background": "light"
     },
     "output_type": "display_data"
    },
    {
     "name": "stdout",
     "output_type": "stream",
     "text": [
      "Note that 2935 zeros are not shown, out of a dataset of 8616.\n"
     ]
    }
   ],
   "source": [
    "#calculate 95% threshold\n",
    "get_thresholds(technical_variances)\n",
    "\n",
    "non_zero_tech_var = skipZero(technical_variances)\n",
    "threshold_index = math.ceil(float(len(non_zero_tech_var))*0.05)\n",
    "\n",
    "x= np.sort(non_zero_tech_var[threshold_index:])\n",
    "plt.hist(x, alpha=.3)\n",
    "sns.rugplot(x)\n",
    "plt.title(\"Technical Variances - lower 95%\")\n",
    "plt.show()\n",
    "\n",
    "print (\"Note that %i zeros are not shown, out of a dataset of %i.\" % \n",
    "       (len([z for z in technical_variances if (z==0)]), len(technical_variances)))"
   ]
  },
  {
   "cell_type": "markdown",
   "metadata": {},
   "source": [
    "# Variance Between Cell Lines"
   ]
  },
  {
   "cell_type": "markdown",
   "metadata": {},
   "source": [
    "\n",
    "    for r in range(0, len(list(reps.values())[0])):\n",
    "        #reps = (f[r], s[r], t[r])\n",
    "        rep_for_protein = []\n",
    "        p = ms3data.iloc[r].name\n",
    "        for rep in reps.values():\n",
    "            if rep[r] > 0: rep_for_protein.append(rep[r])\n",
    "            \n",
    "        if len(rep_for_protein) > 1: \n",
    "            v = variance(rep_for_protein)\n",
    "            technical_variances.append(v)\n",
    "            tech_variance_rate.append((v/mean(rep_for_protein)))\n",
    "            sample_proteins[p] = mean(rep_for_protein)\n",
    "        else: \n",
    "            technical_variances.append(0)\n",
    "            tech_variance_rate.append(0)\n",
    "            sample_proteins[p] = 0.0"
   ]
  },
  {
   "cell_type": "code",
   "execution_count": 28,
   "metadata": {
    "scrolled": true
   },
   "outputs": [],
   "source": [
    "sample_names = []\n",
    "for i in sample_aves:\n",
    "    sample_names.append(i)"
   ]
  },
  {
   "cell_type": "code",
   "execution_count": 51,
   "metadata": {
    "scrolled": true
   },
   "outputs": [],
   "source": [
    "#Shows the lines that will be compared\n",
    "if False:\n",
    "    for i in range(0,len(sample_names)-1):\n",
    "        for o_ser_index in range(i+1,len(sample_names)):\n",
    "            print (sample_names[i], '   vs   ', sample_names[o_ser_index])\n",
    "        print ()"
   ]
  },
  {
   "cell_type": "code",
   "execution_count": 30,
   "metadata": {
    "scrolled": true
   },
   "outputs": [
    {
     "name": "stdout",
     "output_type": "stream",
     "text": [
      "21540\n"
     ]
    }
   ],
   "source": [
    "h = ms3data.shape[0]\n",
    "variances = {}\n",
    "var_flat = np.empty(shape = (h*15))\n",
    "variance_rate = {}\n",
    "flat_index = 0\n",
    "\n",
    "for ser_index in range(0,len(sample_names)-1): #these are the keys to ms3Samples\n",
    "    ser = sample_names[ser_index]\n",
    "    sample_df1 = ms3Samples[ser]\n",
    "    variances[ser] = {}\n",
    "    for o_ser_index in range(ser_index+1,len(sample_names)): #keys again\n",
    "        o_ser = sample_names[o_ser_index]\n",
    "        #compare variance in sample versus otherSample\n",
    "        sample_df2 = ms3Samples[o_ser]\n",
    "        variances[ser][o_ser] = {}\n",
    "        for protein in sample_df1.index:\n",
    "            t = list(sample_df1.loc[protein,:])\n",
    "            for i in sample_df2.loc[protein,:]:\n",
    "                t.append(i)\n",
    "            v = variance(t)\n",
    "            variances[ser][o_ser][protein] = v\n",
    "            var_flat[flat_index]=v\n",
    "            flat_index +=1\n",
    "        \n",
    "print(flat_index)\n",
    "        #\"\"\"# For tests involving the full sets\n",
    "\n"
   ]
  },
  {
   "cell_type": "code",
   "execution_count": 31,
   "metadata": {
    "scrolled": true
   },
   "outputs": [
    {
     "data": {
      "image/png": "[encoded data removed]",
      "text/plain": [
       "<Figure size 432x288 with 1 Axes>"
      ]
     },
     "metadata": {
      "needs_background": "light"
     },
     "output_type": "display_data"
    },
    {
     "name": "stdout",
     "output_type": "stream",
     "text": [
      "Note that 3783 zeros are not shown, out of a dataset of 21540.\n",
      "Including Zeros: \n",
      "95% threshold:  51941008.93926667\n",
      "99% threshold:  519894732.07799995\n",
      "\n",
      "Ignoring Zeros: \n",
      "95% threshold:  68819258.8\n",
      "99% threshold:  690190816.93702\n"
     ]
    }
   ],
   "source": [
    "plt.hist(skipZero(var_flat), alpha=.5, bins = 100)\n",
    "sns.rugplot(skipZero(var_flat))\n",
    "plt.title(\"Variances Between Each Set of Replicates\")\n",
    "plt.show()\n",
    "\n",
    "print (\"Note that %i zeros are not shown, out of a dataset of %i.\" % \n",
    "       (len([z for z in var_flat if (z==0)]), len(var_flat)))\n",
    "\n",
    "variances_threshold = get_thresholds(var_flat)"
   ]
  },
  {
   "cell_type": "code",
   "execution_count": 32,
   "metadata": {
    "scrolled": true
   },
   "outputs": [],
   "source": [
    "variance_outliers = []\n",
    "for line1 in variances:\n",
    "    compare_dict = variances[line1]\n",
    "    for line2 in compare_dict:\n",
    "        values = compare_dict[line2]\n",
    "        for protein in values:\n",
    "            val = values[protein]\n",
    "            if val > variances_threshold:\n",
    "                id_label =(line1+\" \"+line2+\" \"+protein)\n",
    "                variance_outliers.append((line1, line2, protein, val))\n",
    "variance_outliers.sort(key=operator.itemgetter(3), reverse=True)"
   ]
  },
  {
   "cell_type": "markdown",
   "metadata": {},
   "source": [
    "These are the top 5% by variance. The H2B... set marked extremely high on intensity and on every measure since, with the exception of the weighted standard deviation, where it was still high, but close to the rest of the dataset."
   ]
  },
  {
   "cell_type": "code",
   "execution_count": 50,
   "metadata": {
    "scrolled": true
   },
   "outputs": [],
   "source": [
    "SHOW_ALL_OUTLIERS=False\n",
    "if SHOW_ALL_OUTLIERS:\n",
    "    for i in (variance_outliers): print(i[0], i[1], i[2], i[3])"
   ]
  },
  {
   "cell_type": "markdown",
   "metadata": {},
   "source": [
    "Now I compare lines and proteins to see which make the outlier set most."
   ]
  },
  {
   "cell_type": "code",
   "execution_count": 34,
   "metadata": {},
   "outputs": [],
   "source": [
    "line_category_counts = {}#Example key = \"Cell Line1 vs Cell line 2\" value = number of occurances\n",
    "line_categories = {}\n",
    "protein_categories = {} #Name:Frequency\n",
    "for entry in variance_outliers:\n",
    "    line_category = (entry[0]+\" vs \"+entry[1])\n",
    "    if line_category in line_categories:\n",
    "        line_category_counts[line_category] += 1\n",
    "        line_categories[line_category] += entry[3]\n",
    "    else: \n",
    "        line_category_counts[line_category] = 1\n",
    "        line_categories[line_category] = entry[3]\n",
    "    \n",
    "    protein = entry[2]\n",
    "    if protein in protein_categories: protein_categories[protein] += 1\n",
    "    else: protein_categories[protein] = 1"
   ]
  },
  {
   "cell_type": "code",
   "execution_count": 52,
   "metadata": {},
   "outputs": [],
   "source": [
    "line_categories_list = []\n",
    "for i in (line_categories): line_categories_list.append((i,line_categories[i]))\n",
    "\n",
    "line_categories_list.sort(key=operator.itemgetter(1), reverse=True)\n",
    "if SHOW_ALL_OUTLIERS:\n",
    "    for i in (line_categories_list): print(i[0]+\":\",i[1])"
   ]
  },
  {
   "cell_type": "code",
   "execution_count": 53,
   "metadata": {},
   "outputs": [],
   "source": [
    "line_categories_count_list = []\n",
    "for i in (line_category_counts): line_categories_count_list.append((i,line_category_counts[i]))\n",
    "\n",
    "line_categories_count_list.sort(key=operator.itemgetter(1), reverse=True)\n",
    "if SHOW_ALL_OUTLIERS:\n",
    "    for i in (line_categories_count_list): print(i[0]+\":\",i[1])"
   ]
  },
  {
   "cell_type": "code",
   "execution_count": 55,
   "metadata": {},
   "outputs": [],
   "source": [
    "line_categories_count_aves = []\n",
    "for i in (line_category_counts): line_categories_count_aves.append((i,(line_categories[i]/float(line_category_counts[i]))))\n",
    "\n",
    "line_categories_count_aves.sort(key=operator.itemgetter(1), reverse=True)\n",
    "if SHOW_ALL_OUTLIERS:\n",
    "    for i in (line_categories_count_aves): print(i[0]+\":\",i[1])"
   ]
  },
  {
   "cell_type": "code",
   "execution_count": 56,
   "metadata": {
    "scrolled": true
   },
   "outputs": [],
   "source": [
    "if SHOW_ALL_OUTLIERS:\n",
    "    print (\"There are %i proteins that made the outlier list.\\n\" % len(protein_categories))\n",
    "    for i in (protein_categories): print(i+\":\",protein_categories[i])"
   ]
  },
  {
   "cell_type": "code",
   "execution_count": 57,
   "metadata": {
    "scrolled": true
   },
   "outputs": [],
   "source": [
    "if SHOW_ALL_OUTLIERS:\n",
    "    plt.figure(figsize=(40,10))\n",
    "    plt.bar(range(len(protein_categories)), list(protein_categories.values()), align='center')\n",
    "    plt.xticks(range(len(protein_categories)), list(protein_categories.keys()), rotation=\"vertical\")\n",
    "    plt.title(\"Variance Outliers By Cell Lines\")\n",
    "    plt.show()"
   ]
  },
  {
   "cell_type": "code",
   "execution_count": 40,
   "metadata": {
    "scrolled": true
   },
   "outputs": [],
   "source": [
    "dif = {}\n",
    "for ser in sample_aves:\n",
    "    series = sample_aves[ser]\n",
    "    dif[ser]={}\n",
    "    for o_ser in sample_aves:\n",
    "        other_series = sample_aves[o_ser]\n",
    "        dif[ser][o_ser] = compare(series, other_series)\n",
    "    "
   ]
  },
  {
   "cell_type": "code",
   "execution_count": 58,
   "metadata": {
    "scrolled": true
   },
   "outputs": [],
   "source": [
    "if SHOW_ALL_OUTLIERS:\n",
    "    print (\"Average Intensity Differences Between Cell Lines:\\n\")\n",
    "    dif = pd.DataFrame.from_dict(dif, dtype = float)\n",
    "    v =(dif.apply(get_lower, to_show=6))"
   ]
  },
  {
   "cell_type": "markdown",
   "metadata": {},
   "source": [
    " # By-Protein Standard Deviations\n",
    " ## All Data"
   ]
  },
  {
   "cell_type": "code",
   "execution_count": 42,
   "metadata": {
    "scrolled": true
   },
   "outputs": [
    {
     "data": {
      "image/png": "[encoded data removed]",
      "text/plain": [
       "<Figure size 720x504 with 1 Axes>"
      ]
     },
     "metadata": {
      "needs_background": "light"
     },
     "output_type": "display_data"
    }
   ],
   "source": [
    "def skipZeroStDev(list):\n",
    "    temp_list = []\n",
    "    for i in list:\n",
    "        if i > 0:\n",
    "            temp_list.append(i)\n",
    "    if len(temp_list) < 2: return 0\n",
    "    else: return stdev(temp_list)\n",
    "\n",
    "stdevs_rows = ms3data.apply(skipZeroStDev, axis = 'columns')\n",
    "#iterate columns to get data for each row\n",
    "stdevs_cols = ms3data.apply(skipZeroStDev, axis = 'index')\n",
    "plt.figure(figsize=(10,7))\n",
    "plt.hist(stdevs_rows, alpha=.3)\n",
    "plt.title(\"Standard Deviations of Intensity by Protein\")\n",
    "sns.rugplot(stdevs_rows)\n",
    "plt.show()"
   ]
  },
  {
   "cell_type": "code",
   "execution_count": 43,
   "metadata": {
    "scrolled": false
   },
   "outputs": [
    {
     "data": {
      "image/png": "[encoded data removed]",
      "text/plain": [
       "<Figure size 432x288 with 1 Axes>"
      ]
     },
     "metadata": {
      "needs_background": "light"
     },
     "output_type": "display_data"
    },
    {
     "name": "stdout",
     "output_type": "stream",
     "text": [
      "95% threshold:  2.418423256113018\n",
      "99% threshold:  2.6379908104156002\n"
     ]
    }
   ],
   "source": [
    "def weightedStDev(list):\n",
    "    temp_list = []\n",
    "    for i in list:\n",
    "        if i > 0:\n",
    "            temp_list.append(i)\n",
    "    if len(temp_list) < 2: return 0\n",
    "    else: return stdev(temp_list)/mean(temp_list)\n",
    "\n",
    "sdm_rows = ms3data.apply(weightedStDev, axis = \"columns\")\n",
    "\n",
    "plt.hist(sdm_rows, alpha=.3)\n",
    "plt.title(\"Standard Deviation : Mean Ratio\")\n",
    "sns.rugplot(sdm_rows)\n",
    "plt.show()\n",
    "\n",
    "sdm_rows.sort_values(ascending=False, inplace=True)\n",
    "\n",
    "print(\"95% threshold: \", sdm_rows[math.ceil(float(len(stdevs_rows))*.05)])\n",
    "print(\"99% threshold: \", sdm_rows[math.ceil(float(len(stdevs_rows))*.01)])\n",
    "#print(\"\\n\",sdm_rows.head())"
   ]
  },
  {
   "cell_type": "code",
   "execution_count": 44,
   "metadata": {
    "scrolled": true
   },
   "outputs": [
    {
     "data": {
      "image/png": "[encoded data removed]",
      "text/plain": [
       "<Figure size 432x288 with 1 Axes>"
      ]
     },
     "metadata": {
      "needs_background": "light"
     },
     "output_type": "display_data"
    }
   ],
   "source": [
    "sd_m = sns.regplot(x = means_of_nonZero_by_col,y = stdevs_cols)\n",
    "sd_m.set(title=\"Standard Deviation Versus Mean by Col\", xlabel=\"Mean Intensity\", ylabel=\"Standard Deviation\")\n",
    "\n",
    "plt.show()"
   ]
  },
  {
   "cell_type": "code",
   "execution_count": 45,
   "metadata": {
    "scrolled": false
   },
   "outputs": [
    {
     "data": {
      "image/png": "[encoded data removed]",
      "text/plain": [
       "<Figure size 432x288 with 1 Axes>"
      ]
     },
     "metadata": {
      "needs_background": "light"
     },
     "output_type": "display_data"
    }
   ],
   "source": [
    "sd_m = sns.regplot(x = means_of_nonZero_by_row,y = stdevs_rows)\n",
    "sd_m.set(title=\"Standard Deviation Versus Mean per Protein\", xlabel=\"Mean Intensity\", ylabel=\"Standard Deviation\")\n",
    "\n",
    "plt.show()"
   ]
  },
  {
   "cell_type": "markdown",
   "metadata": {},
   "source": [
    "# Standard Deviation Within Technical Replicates"
   ]
  },
  {
   "cell_type": "code",
   "execution_count": 62,
   "metadata": {
    "scrolled": true
   },
   "outputs": [],
   "source": [
    "tech_deviations = {}\n",
    "tech_means = {}\n",
    "\n",
    "for sample in technical_replicates:\n",
    "    cell_line = str(sample)\n",
    "    tech_means_line = {}\n",
    "    tech_dev_line = {}\n",
    "    #calculate standard deviations by protein by sample\n",
    "    reps = []\n",
    "    for rep in technical_replicates[sample]:\n",
    "        reps.append(ms3data.iloc[:,rep])\n",
    "        \n",
    "    protein_names = ms3data.index\n",
    "     \n",
    "    for i in range(0, len(reps[0])):\n",
    "        protein_vals = []\n",
    "        protein = protein_names[i]        \n",
    "        for rep in reps:\n",
    "            protein_vals.append(rep[i])\n",
    "        tech_dev_line[protein] = skipZeroStDev(protein_vals)\n",
    "        tech_means_line[protein] = skipZeroMean(protein_vals)\n",
    "    tech_deviations[cell_line] = tech_dev_line\n",
    "    tech_means[cell_line] = tech_means_line\n",
    "       \n",
    "tech_deviations = pd.DataFrame.from_dict(tech_deviations, dtype = float)\n",
    "tech_means = pd.DataFrame.from_dict(tech_means, dtype = float)\n"
   ]
  },
  {
   "cell_type": "code",
   "execution_count": 63,
   "metadata": {
    "scrolled": true
   },
   "outputs": [
    {
     "data": {
      "image/png": "[encoded data removed]",
      "text/plain": [
       "<Figure size 432x288 with 1 Axes>"
      ]
     },
     "metadata": {
      "needs_background": "light"
     },
     "output_type": "display_data"
    }
   ],
   "source": [
    "#plot tecnical replicate standard deviations as histogram\n",
    "tech_deviations_flat = -np.sort(-tech_deviations.values.flatten())\n",
    "plt.hist(skipZero(tech_deviations_flat), bins=200)\n",
    "plt.title(\"Standard Deviations for Technical Replicates\")\n",
    "plt.show()"
   ]
  },
  {
   "cell_type": "code",
   "execution_count": 64,
   "metadata": {
    "scrolled": true
   },
   "outputs": [
    {
     "name": "stdout",
     "output_type": "stream",
     "text": [
      "Including Zeros: \n",
      "95% threshold:  1531.944624760743\n",
      "99% threshold:  4194.360062433045\n",
      "\n",
      "Ignoring Zeros: \n",
      "95% threshold:  2049.174549259612\n",
      "99% threshold:  5265.586387098781\n"
     ]
    },
    {
     "data": {
      "text/plain": [
       "2049.174549259612"
      ]
     },
     "execution_count": 64,
     "metadata": {},
     "output_type": "execute_result"
    }
   ],
   "source": [
    "get_thresholds(tech_deviations_flat)"
   ]
  },
  {
   "cell_type": "code",
   "execution_count": 65,
   "metadata": {
    "scrolled": true
   },
   "outputs": [
    {
     "data": {
      "image/png": "[encoded data removed]",
      "text/plain": [
       "<Figure size 432x288 with 1 Axes>"
      ]
     },
     "metadata": {
      "needs_background": "light"
     },
     "output_type": "display_data"
    },
    {
     "name": "stdout",
     "output_type": "stream",
     "text": [
      "Note that 2935 zeros are not shown, out of a dataset of 8616.\n"
     ]
    }
   ],
   "source": [
    "x = skipZero(tech_deviations_flat)\n",
    "x = x[math.ceil(float(len(x))*.01):]\n",
    "plt.hist(x, alpha=.3, )\n",
    "sns.rugplot(x)\n",
    "plt.title(\"Technical Deviations - lower 99%\")\n",
    "plt.show()\n",
    "print (\"Note that %i zeros are not shown, out of a dataset of %i.\" % \n",
    "       (len([z for z in tech_deviations_flat if (z==0)]), len(tech_deviations_flat)))"
   ]
  },
  {
   "cell_type": "code",
   "execution_count": 66,
   "metadata": {
    "scrolled": true
   },
   "outputs": [
    {
     "data": {
      "image/png": "[encoded data removed]",
      "text/plain": [
       "<Figure size 432x288 with 1 Axes>"
      ]
     },
     "metadata": {
      "needs_background": "light"
     },
     "output_type": "display_data"
    },
    {
     "name": "stdout",
     "output_type": "stream",
     "text": [
      "Note that 2935 zeros are not shown, out of a dataset of 8616.\n"
     ]
    }
   ],
   "source": [
    "dev_div_mean = (tech_deviations/tech_means)\n",
    "ddm_flat = sorted(dev_div_mean.fillna(0).values.flatten(), reverse=True)\n",
    "\n",
    "plt.hist([x for x in ddm_flat if (x>0)], bins=200)\n",
    "plt.title(\"Standard Deviations weighted by Mean\")\n",
    "plt.show()\n",
    "print (\"Note that %i zeros are not shown, out of a dataset of %i.\" % (len([x for x in ddm_flat if (x==0)]), len(ddm_flat)))"
   ]
  },
  {
   "cell_type": "code",
   "execution_count": 67,
   "metadata": {
    "scrolled": true
   },
   "outputs": [
    {
     "name": "stdout",
     "output_type": "stream",
     "text": [
      "Including Zeros: \n",
      "95% threshold:  0.42202843744097457\n",
      "99% threshold:  0.6196038423619303\n",
      "\n",
      "Ignoring Zeros: \n",
      "95% threshold:  0.4821333180463669\n",
      "99% threshold:  0.659621766643641\n"
     ]
    },
    {
     "data": {
      "text/plain": [
       "0.4821333180463669"
      ]
     },
     "execution_count": 67,
     "metadata": {},
     "output_type": "execute_result"
    }
   ],
   "source": [
    "ddm_flat = sorted(dev_div_mean.fillna(0).values.flatten(), reverse=True)\n",
    "get_thresholds(ddm_flat)"
   ]
  },
  {
   "cell_type": "markdown",
   "metadata": {},
   "source": [
    "# Standard Deviations Between Cell Lines\n",
    "#### ( Not implemented)"
   ]
  }
 ],
 "metadata": {
  "kernelspec": {
   "display_name": "Python 3",
   "language": "python",
   "name": "python3"
  },
  "language_info": {
   "codemirror_mode": {
    "name": "ipython",
    "version": 3
   },
   "file_extension": ".py",
   "mimetype": "text/x-python",
   "name": "python",
   "nbconvert_exporter": "python",
   "pygments_lexer": "ipython3",
   "version": "3.7.3"
  }
 },
 "nbformat": 4,
 "nbformat_minor": 2
}
