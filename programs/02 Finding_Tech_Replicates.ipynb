{
 "cells": [
  {
   "cell_type": "markdown",
   "metadata": {},
   "source": [
    "Note that this was done initially with raw data, then redone with log-normalized."
   ]
  },
  {
   "cell_type": "code",
   "execution_count": 7,
   "metadata": {
    "scrolled": true
   },
   "outputs": [
    {
     "name": "stderr",
     "output_type": "stream",
     "text": [
      "C:\\Users\\M McCown\\Jupyter\\readin.py:105: RuntimeWarning: divide by zero encountered in log\n",
      "  dfl = (np.log(df)).replace(-np.inf, 0)\n"
     ]
    }
   ],
   "source": [
    "from readin import *\n",
    "\n",
    "ms3data = readin_log(\"proteinGroups_Slavov_Set1_simplified.txt\")"
   ]
  },
  {
   "cell_type": "markdown",
   "metadata": {},
   "source": [
    "# Finding Technical Replicates"
   ]
  },
  {
   "cell_type": "code",
   "execution_count": 8,
   "metadata": {
    "scrolled": true
   },
   "outputs": [],
   "source": [
    "def compare(selfseries, otherseries):\n",
    "    c_dist = 0.0 #cumulative differences between the two series\n",
    "    for i in range(0,len(selfseries)):\n",
    "        c_dist += abs(float(selfseries[i])-float(otherseries[i]))\n",
    "    ave_dist = float(c_dist)/float((len(selfseries)))\n",
    "    return ave_dist"
   ]
  },
  {
   "cell_type": "code",
   "execution_count": 9,
   "metadata": {
    "scrolled": true
   },
   "outputs": [],
   "source": [
    "def get_lower(series, to_show=5):\n",
    "    orser = series.sort_values(inplace=False)\n",
    "    print (orser.iloc[range(0,to_show)], '\\n\\n')"
   ]
  },
  {
   "cell_type": "code",
   "execution_count": 10,
   "metadata": {
    "scrolled": true
   },
   "outputs": [],
   "source": [
    "differences = {}\n",
    "for i in range(0,10): #The data is four sets of ten columns\n",
    "    diff_c = {} #differences for this column\n",
    "    selfser = ms3data.iloc[:,i]\n",
    "    for o in range(0,10):\n",
    "        oser = ms3data.iloc[:,o]\n",
    "        dif = compare(selfser, oser)\n",
    "        diff_c[o] = dif\n",
    "    differences[i] = diff_c"
   ]
  },
  {
   "cell_type": "code",
   "execution_count": 11,
   "metadata": {
    "scrolled": true
   },
   "outputs": [],
   "source": [
    "differences = pd.DataFrame.from_dict(differences, dtype = float)"
   ]
  },
  {
   "cell_type": "code",
   "execution_count": 12,
   "metadata": {
    "scrolled": false
   },
   "outputs": [
    {
     "name": "stdout",
     "output_type": "stream",
     "text": [
      "0    0.000000\n",
      "6    0.424720\n",
      "2    0.543039\n",
      "4    0.584152\n",
      "8    0.693741\n",
      "1    0.741900\n",
      "Name: 0, dtype: float64 \n",
      "\n",
      "\n",
      "1    0.000000\n",
      "8    0.339165\n",
      "3    0.340144\n",
      "4    0.364738\n",
      "2    0.451283\n",
      "6    0.651295\n",
      "Name: 1, dtype: float64 \n",
      "\n",
      "\n",
      "2    0.000000\n",
      "4    0.283853\n",
      "8    0.367333\n",
      "3    0.381456\n",
      "6    0.438975\n",
      "1    0.451283\n",
      "Name: 2, dtype: float64 \n",
      "\n",
      "\n",
      "3    0.000000\n",
      "8    0.260684\n",
      "1    0.340144\n",
      "4    0.341745\n",
      "2    0.381456\n",
      "7    0.547668\n",
      "Name: 3, dtype: float64 \n",
      "\n",
      "\n",
      "4    0.000000\n",
      "2    0.283853\n",
      "8    0.308975\n",
      "3    0.341745\n",
      "1    0.364738\n",
      "6    0.490446\n",
      "Name: 4, dtype: float64 \n",
      "\n",
      "\n",
      "5    0.000000\n",
      "8    0.617160\n",
      "3    0.622173\n",
      "1    0.659122\n",
      "4    0.780441\n",
      "2    0.898971\n",
      "Name: 5, dtype: float64 \n",
      "\n",
      "\n",
      "6    0.000000\n",
      "0    0.424720\n",
      "2    0.438975\n",
      "4    0.490446\n",
      "8    0.582822\n",
      "3    0.639585\n",
      "Name: 6, dtype: float64 \n",
      "\n",
      "\n",
      "7    0.000000\n",
      "8    0.517658\n",
      "3    0.547668\n",
      "2    0.613102\n",
      "4    0.630753\n",
      "6    0.688617\n",
      "Name: 7, dtype: float64 \n",
      "\n",
      "\n",
      "8    0.000000\n",
      "3    0.260684\n",
      "4    0.308975\n",
      "1    0.339165\n",
      "2    0.367333\n",
      "7    0.517658\n",
      "Name: 8, dtype: float64 \n",
      "\n",
      "\n",
      "9    0.000000\n",
      "5    2.015894\n",
      "3    2.536444\n",
      "8    2.557170\n",
      "1    2.561042\n",
      "4    2.691158\n",
      "Name: 9, dtype: float64 \n",
      "\n",
      "\n"
     ]
    }
   ],
   "source": [
    "v =(differences.apply(get_lower, to_show=6))"
   ]
  },
  {
   "cell_type": "code",
   "execution_count": 13,
   "metadata": {},
   "outputs": [
    {
     "data": {
      "image/png": "[encoded data removed]",
      "text/plain": [
       "<Figure size 432x288 with 1 Axes>"
      ]
     },
     "metadata": {
      "needs_background": "light"
     },
     "output_type": "display_data"
    },
    {
     "name": "stdout",
     "output_type": "stream",
     "text": [
      "[0.46086402254243153, 0.47307482349832436]\n"
     ]
    }
   ],
   "source": [
    "#technical_replicates = ([0,1,2],[3,4,5],[6,8]) #MS3\n",
    "#technical_replicates = ([10,11,12],[13,14,15],[16,18]) #MS3 uncorrected\n",
    "\n",
    "tech_dif = []\n",
    "for sample in technical_replicates:\n",
    "    sample_dif = []\n",
    "    for i in sample:\n",
    "        for x in sample:\n",
    "            if i != x:\n",
    "                sample_dif.append(differences[i][x])\n",
    "    sample_dif =skipZeroMean(sample_dif)\n",
    "    tech_dif.append(sample_dif)\n",
    "\n",
    "plt.hist(tech_dif, alpha=.3, bins = 20)\n",
    "plt.title(\"Technical Differences\")\n",
    "sns.rugplot(tech_dif)\n",
    "plt.show()\n",
    "print(tech_dif)"
   ]
  },
  {
   "cell_type": "code",
   "execution_count": null,
   "metadata": {},
   "outputs": [],
   "source": []
  },
  {
   "cell_type": "code",
   "execution_count": null,
   "metadata": {},
   "outputs": [],
   "source": []
  }
 ],
 "metadata": {
  "kernelspec": {
   "display_name": "Python 3",
   "language": "python",
   "name": "python3"
  },
  "language_info": {
   "codemirror_mode": {
    "name": "ipython",
    "version": 3
   },
   "file_extension": ".py",
   "mimetype": "text/x-python",
   "name": "python",
   "nbconvert_exporter": "python",
   "pygments_lexer": "ipython3",
   "version": "3.7.3"
  }
 },
 "nbformat": 4,
 "nbformat_minor": 2
}
