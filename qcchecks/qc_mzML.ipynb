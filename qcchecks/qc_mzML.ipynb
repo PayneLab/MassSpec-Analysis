{
 "cells": [
  {
   "cell_type": "markdown",
   "metadata": {},
   "source": [
    "Goal: Within five minutes of getting the raw file, have a quality analysis.\n",
    "Most of the data the Kelly lab looks at is from the Max Quant output.\n",
    "This generally takes hours to produce, which is ineffective for QC.\n",
    "\n",
    "I am experimenting with doing it in pyteomics or pymzml.\n",
    "These cannot open raw, but can use .mzML.\n",
    "\n",
    "\n",
    "###### Step 1: use MSConvertGUI to convert .raw to .mzML\n",
    "Or use MSConvert.exe via command line.\n",
    "Time: 2 minutes"
   ]
  },
  {
   "cell_type": "code",
   "execution_count": 1,
   "metadata": {},
   "outputs": [],
   "source": [
    "test_file='D:\\\\MS\\\\QC\\\\QC_Run3.mzML'#This is the one we're checking.\n",
    "standard_file='D:\\MS\\QC\\QC_Run1.mzML'#This should be a known good run."
   ]
  },
  {
   "cell_type": "code",
   "execution_count": 2,
   "metadata": {
    "scrolled": true
   },
   "outputs": [],
   "source": [
    "import pymzml\n",
    "import numpy\n",
    "from statistics import mean\n",
    "from datetime import datetime"
   ]
  },
  {
   "cell_type": "code",
   "execution_count": 3,
   "metadata": {},
   "outputs": [
    {
     "name": "stdout",
     "output_type": "stream",
     "text": [
      "2019-08-08 16:28:03.922145\n",
      "D:\\MS\\QC\\QC_Run3.mzML\n",
      "D:\\MS\\QC\\QC_Run1.mzML\n",
      "2019-08-08 16:28:03.933404\n",
      "Similarity:\t16.00%\n",
      "2019-08-08 16:28:15.636355\n"
     ]
    }
   ],
   "source": [
    "print(datetime.now())\n",
    "run=pymzml.run.Reader(test_file)\n",
    "comp_run=pymzml.run.Reader(standard_file)\n",
    "r_length = run.get_spectrum_count()\n",
    "comp_length = comp_run.get_spectrum_count()\n",
    "mid = int(mean([r_length, comp_length])/2)\n",
    "start_index = mid - 250\n",
    "end_index = mid + 250\n",
    "print(datetime.now())\n",
    "sim=[]\n",
    "for i in range(start_index,end_index, 5):\n",
    "    spec = run[i]\n",
    "    comp_spec = comp_run[i]\n",
    "    similarity_score = spec.similarity_to(comp_spec)\n",
    "    sim.append(similarity_score)\n",
    "print (\"Similarity:\\t{0:.2f}%\".format((mean(sim))*100))\n",
    "print(datetime.now())"
   ]
  },
  {
   "cell_type": "code",
   "execution_count": null,
   "metadata": {},
   "outputs": [],
   "source": []
  },
  {
   "cell_type": "code",
   "execution_count": null,
   "metadata": {},
   "outputs": [],
   "source": []
  },
  {
   "cell_type": "code",
   "execution_count": 20,
   "metadata": {
    "collapsed": true
   },
   "outputs": [
    {
     "name": "stdout",
     "output_type": "stream",
     "text": [
      "index\n",
      "id\n",
      "defaultArrayLength\n",
      "scanList\n",
      " -> count\n",
      " -> scan [list]\n",
      " ->  -> scanWindowList\n",
      " ->  ->  -> count\n",
      " ->  ->  -> scanWindow [list]\n",
      " ->  ->  ->  -> scan window lower limit\n",
      " ->  ->  ->  -> scan window upper limit\n",
      " ->  -> scan start time\n",
      " ->  -> filter string\n",
      " ->  -> ion injection time\n",
      " -> no combination\n",
      "MS1 spectrum\n",
      "ms level\n",
      "positive scan\n",
      "profile spectrum\n",
      "base peak m/z\n",
      "base peak intensity\n",
      "total ion current\n",
      "lowest observed m/z\n",
      "highest observed m/z\n",
      "spectrum title\n",
      "count\n",
      "m/z array\n",
      "intensity array\n"
     ]
    }
   ],
   "source": [
    "from pyteomics import mzml, auxiliary\n",
    "import numpy as np\n",
    "import pandas as pd\n",
    "test_reader = mzml.read(test_file)\n",
    "standard_reader = mzml.read(standard_file)\n",
    "auxiliary.print_tree(next(test_reader))"
   ]
  },
  {
   "cell_type": "code",
   "execution_count": 21,
   "metadata": {},
   "outputs": [],
   "source": [
    "spec = test_reader.next()"
   ]
  },
  {
   "cell_type": "code",
   "execution_count": 35,
   "metadata": {},
   "outputs": [
    {
     "data": {
      "text/plain": [
       "{'index': 1,\n",
       " 'id': 'controllerType=0 controllerNumber=1 scan=2',\n",
       " 'defaultArrayLength': 37781,\n",
       " 'scanList': {'count': 1,\n",
       "  'scan': [{'scanWindowList': {'count': 1,\n",
       "     'scanWindow': [{'scan window lower limit': 375.0 m/z,\n",
       "       'scan window upper limit': 1575.0 m/z}]},\n",
       "    'scan start time': 0.0110184016 minute,\n",
       "    'filter string': 'FTMS + p NSI Full ms [375.0000-1575.0000]',\n",
       "    'ion injection time': 14.744358062744 millisecond}],\n",
       "  'no combination': ''},\n",
       " 'MS1 spectrum': '',\n",
       " 'ms level': 1,\n",
       " 'positive scan': '',\n",
       " 'profile spectrum': '',\n",
       " 'base peak m/z': 471.796081542969 m/z,\n",
       " 'base peak intensity': 4404172.0 number of detector counts,\n",
       " 'total ion current': 64723296.0,\n",
       " 'lowest observed m/z': 371.268572486683 m/z,\n",
       " 'highest observed m/z': 1590.868620533731 m/z,\n",
       " 'spectrum title': 'Nanowell_TMT10_SingleCell_9channel_boost0_run2_031218_305bar.2.2. File:\"Nanowell_TMT10_SingleCell_9channel_boost0_run2_031218_305bar.raw\", NativeID:\"controllerType=0 controllerNumber=1 scan=2\"',\n",
       " 'count': 2,\n",
       " 'm/z array': array([ 371.26857249,  371.26953273,  371.27049297, ..., 1590.85158627,\n",
       "        1590.86010337, 1590.86862053]),\n",
       " 'intensity array': array([0., 0., 0., ..., 0., 0., 0.])}"
      ]
     },
     "execution_count": 35,
     "metadata": {},
     "output_type": "execute_result"
    }
   ],
   "source": [
    "spec"
   ]
  },
  {
   "cell_type": "code",
   "execution_count": null,
   "metadata": {
    "scrolled": true
   },
   "outputs": [],
   "source": [
    "stats_to_check=[\n",
    "    'base peak m/z',\n",
    "    'base peak intensity'\n",
    "]\n",
    "\n",
    "def compare_stats(t, ref, stats_to_check):\n",
    "    for s in stats_to_check:\n",
    "        r = t[s]/ref[s]\n",
    "        stats[s]=r\n",
    "        print (\"{0}:\\t{1:.2f}% match.\".format(s, stats[s]*100))"
   ]
  }
 ],
 "metadata": {
  "kernelspec": {
   "display_name": "Python 3",
   "language": "python",
   "name": "python3"
  },
  "language_info": {
   "codemirror_mode": {
    "name": "ipython",
    "version": 3
   },
   "file_extension": ".py",
   "mimetype": "text/x-python",
   "name": "python",
   "nbconvert_exporter": "python",
   "pygments_lexer": "ipython3",
   "version": "3.7.3"
  }
 },
 "nbformat": 4,
 "nbformat_minor": 2
}
