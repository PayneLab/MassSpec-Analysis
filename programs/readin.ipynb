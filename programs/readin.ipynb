{
 "cells": [
  {
   "cell_type": "code",
   "execution_count": 1,
   "metadata": {
    "scrolled": true
   },
   "outputs": [],
   "source": [
    "import sys\n",
    "from statistics import mean, stdev, variance\n",
    "import numpy as np\n",
    "import pandas as pd\n",
    "from re import sub\n",
    "import math\n",
    "import operator\n",
    "\n",
    "import matplotlib.pyplot as plt\n",
    "import seaborn as sns\n"
   ]
  },
  {
   "cell_type": "code",
   "execution_count": 2,
   "metadata": {},
   "outputs": [],
   "source": [
    "READ_IN_AND_DISPLAY=False\n",
    "FILE = \"proteinGroups_Slavov_Set1_simplified.txt\""
   ]
  },
  {
   "cell_type": "code",
   "execution_count": 3,
   "metadata": {
    "scrolled": true
   },
   "outputs": [],
   "source": [
    "COLS_TO_USE = range(1,11)\n",
    "IGNORE_ZEROS = True"
   ]
  },
  {
   "cell_type": "code",
   "execution_count": 4,
   "metadata": {
    "scrolled": true
   },
   "outputs": [],
   "source": [
    "def outName(x):\n",
    "    return sub(r'(\\w+).(\\w+)',r'\\1_output.\\2',x)\n",
    "\n",
    "def skipZero(alist):\n",
    "    return [x for x in alist if (x!=0)]\n",
    "\n",
    "def skipZeroMean(l):\n",
    "    l = skipZero(l)\n",
    "    if len(l)==0: return 0\n",
    "    return mean(skipZero((l)))\n",
    "\n",
    "def skipZeroStDev(alist):\n",
    "    alist = skipZero(alist)\n",
    "    if len(alist) == 0: return 0\n",
    "    return stdev(alist)"
   ]
  },
  {
   "cell_type": "code",
   "execution_count": 5,
   "metadata": {
    "scrolled": true
   },
   "outputs": [],
   "source": [
    "def get_thresholds(alist):\n",
    "    alist = sorted(alist, reverse=True)\n",
    "    print(\"Including Zeros: \")\n",
    "    print(\"95% threshold: \", float(alist[math.ceil(float(len(alist))*.05)]))\n",
    "    print(\"99% threshold: \", float(alist[math.ceil(float(len(alist))*.01)]))\n",
    "\n",
    "    alist = [x for x in alist if (x!=0)]\n",
    "    print(\"\\nIgnoring Zeros: \")\n",
    "    ninety_five = float(alist[math.ceil(float(len(alist))*.05)])\n",
    "    print(\"95% threshold: \", ninety_five)\n",
    "    print(\"99% threshold: \", float(alist[math.ceil(float(len(alist))*.01)]))\n",
    "    return ninety_five"
   ]
  },
  {
   "cell_type": "code",
   "execution_count": 6,
   "metadata": {},
   "outputs": [],
   "source": [
    "def compare(selfseries, otherseries):\n",
    "    c_dist = 0.0 #cumulative differences between the two series\n",
    "    for i in range(0,len(selfseries)):\n",
    "        c_dist += abs(float(selfseries[i])-float(otherseries[i]))\n",
    "    ave_dist = float(c_dist)/float((len(selfseries)))\n",
    "    return ave_dist"
   ]
  },
  {
   "cell_type": "code",
   "execution_count": 7,
   "metadata": {},
   "outputs": [],
   "source": [
    "def get_lower(series, to_show=5):\n",
    "    orser = series.sort_values(inplace=False)\n",
    "    print (orser.iloc[range(0,to_show)], '\\n\\n')"
   ]
  },
  {
   "cell_type": "code",
   "execution_count": 8,
   "metadata": {
    "scrolled": true
   },
   "outputs": [],
   "source": [
    "def readin(fileName):\n",
    "    inFile = open(fileName, 'r')\n",
    "    \n",
    "    line = inFile.readline()\n",
    "    headings = line.split('\\t')\n",
    "       \n",
    "    data = {}\n",
    "    line = inFile.readline()\n",
    "    while line !=\"\":\n",
    "        row = line.split('\\t')\n",
    "        vals = row[1:]\n",
    "        for i in vals: i = float(i)\n",
    "        data[(row[0])] = vals\n",
    "        line = inFile.readline()\n",
    "        \n",
    "    df = pd.DataFrame.from_dict(data, dtype = float, orient='index',columns = headings[1:])\n",
    "    return df\n",
    "\n",
    "def readin_log(fileName):\n",
    "    df = readin(fileName)\n",
    "    dfl = (np.log(df)).replace(-np.inf, 0)\n",
    "    return dfl"
   ]
  },
  {
   "cell_type": "code",
   "execution_count": 9,
   "metadata": {
    "scrolled": true
   },
   "outputs": [],
   "source": [
    "if READ_IN_AND_DISPLAY:\n",
    "    ms3data = readin(FILE)\n",
    "    "
   ]
  },
  {
   "cell_type": "code",
   "execution_count": 10,
   "metadata": {
    "scrolled": false
   },
   "outputs": [],
   "source": [
    "if READ_IN_AND_DISPLAY:\n",
    "    #Graph data\n",
    "    plt.figure(figsize=(15,7))\n",
    "    plt.hist(skipZero(ms3data.values.flatten()), alpha=.5, bins = 100)\n",
    "    sns.rugplot(skipZero(ms3data.values.flatten()), color=\"black\")\n",
    "    plt.title(\"All Non-Zero Data Points\")\n",
    "    plt.show()\n",
    "    print (\"Note that %i zeros are not shown, out of a dataset of %i.\" % \n",
    "           (len([z for z in ms3data.values.flatten() if (z==0)]), len(ms3data.values.flatten())))\n",
    "    get_thresholds(ms3data.values.flatten())"
   ]
  },
  {
   "cell_type": "code",
   "execution_count": 11,
   "metadata": {
    "scrolled": false
   },
   "outputs": [],
   "source": [
    "if READ_IN_AND_DISPLAY:\n",
    "    means_of_nonZero_by_col = ms3data.apply(skipZeroMean, axis='index')\n",
    "    plt.hist(means_of_nonZero_by_col, bins=40)\n",
    "    plt.title(\"Means of Columns (Log-Normalized)\")\n",
    "    plt.show()\n",
    "    print(means_of_nonZero_by_col)"
   ]
  },
  {
   "cell_type": "code",
   "execution_count": 12,
   "metadata": {
    "scrolled": false
   },
   "outputs": [],
   "source": [
    "if READ_IN_AND_DISPLAY:\n",
    "    means_of_nonZero_by_row = ms3data.apply(skipZeroMean, axis='columns')\n",
    "    plt.figure(figsize=(10,7))\n",
    "    plt.hist(skipZero(means_of_nonZero_by_row), bins=500)\n",
    "    plt.title(\"Means by Protein (Log-Normalized)\")\n",
    "    plt.show()\n",
    "\n",
    "\n",
    "    print (\"Note that %i zeros are not shown, out of a dataset of %i.\" % \n",
    "           (len([z for z in means_of_nonZero_by_row if (z==0)]), len(means_of_nonZero_by_row)))"
   ]
  }
 ],
 "metadata": {
  "kernelspec": {
   "display_name": "Python 3",
   "language": "python",
   "name": "python3"
  },
  "language_info": {
   "codemirror_mode": {
    "name": "ipython",
    "version": 3
   },
   "file_extension": ".py",
   "mimetype": "text/x-python",
   "name": "python",
   "nbconvert_exporter": "python",
   "pygments_lexer": "ipython3",
   "version": "3.7.3"
  }
 },
 "nbformat": 4,
 "nbformat_minor": 2
}
